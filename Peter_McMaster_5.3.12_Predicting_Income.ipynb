{
 "cells": [
  {
   "cell_type": "markdown",
   "id": "3eaadc2a",
   "metadata": {},
   "source": [
    "https://www.youtube.com/watch?v=V0u6bxQOUJ8"
   ]
  },
  {
   "cell_type": "markdown",
   "id": "42599c87",
   "metadata": {},
   "source": [
    "# Predictive Modeling"
   ]
  },
  {
   "cell_type": "markdown",
   "id": "228a7203",
   "metadata": {},
   "source": [
    "Predict whether an individual makes > $50k per year based on census data"
   ]
  },
  {
   "cell_type": "markdown",
   "id": "13da3a91",
   "metadata": {},
   "source": [
    "https://archive.ics.uci.edu/ml/datasets/Adult"
   ]
  },
  {
   "cell_type": "code",
   "execution_count": 1,
   "id": "7dc5bf4f",
   "metadata": {},
   "outputs": [],
   "source": [
    "import pandas as pd\n",
    "import numpy as np\n",
    "import matplotlib.pyplot as plt\n",
    "import seaborn as sns"
   ]
  },
  {
   "cell_type": "code",
   "execution_count": 2,
   "id": "b3679448",
   "metadata": {},
   "outputs": [
    {
     "data": {
      "text/html": [
       "<div>\n",
       "<style scoped>\n",
       "    .dataframe tbody tr th:only-of-type {\n",
       "        vertical-align: middle;\n",
       "    }\n",
       "\n",
       "    .dataframe tbody tr th {\n",
       "        vertical-align: top;\n",
       "    }\n",
       "\n",
       "    .dataframe thead th {\n",
       "        text-align: right;\n",
       "    }\n",
       "</style>\n",
       "<table border=\"1\" class=\"dataframe\">\n",
       "  <thead>\n",
       "    <tr style=\"text-align: right;\">\n",
       "      <th></th>\n",
       "      <th>age</th>\n",
       "      <th>workclass</th>\n",
       "      <th>fnlwgt</th>\n",
       "      <th>education</th>\n",
       "      <th>education-num</th>\n",
       "      <th>marital-status</th>\n",
       "      <th>occupation</th>\n",
       "      <th>relationship</th>\n",
       "      <th>race</th>\n",
       "      <th>sex</th>\n",
       "      <th>capital-gain</th>\n",
       "      <th>capital-loss</th>\n",
       "      <th>hours-per-week</th>\n",
       "      <th>native-country</th>\n",
       "      <th>income</th>\n",
       "    </tr>\n",
       "  </thead>\n",
       "  <tbody>\n",
       "    <tr>\n",
       "      <th>0</th>\n",
       "      <td>39</td>\n",
       "      <td>State-gov</td>\n",
       "      <td>77516</td>\n",
       "      <td>Bachelors</td>\n",
       "      <td>13</td>\n",
       "      <td>Never-married</td>\n",
       "      <td>Adm-clerical</td>\n",
       "      <td>Not-in-family</td>\n",
       "      <td>White</td>\n",
       "      <td>Male</td>\n",
       "      <td>2174</td>\n",
       "      <td>0</td>\n",
       "      <td>40</td>\n",
       "      <td>United-States</td>\n",
       "      <td>&lt;=50K</td>\n",
       "    </tr>\n",
       "    <tr>\n",
       "      <th>1</th>\n",
       "      <td>50</td>\n",
       "      <td>Self-emp-not-inc</td>\n",
       "      <td>83311</td>\n",
       "      <td>Bachelors</td>\n",
       "      <td>13</td>\n",
       "      <td>Married-civ-spouse</td>\n",
       "      <td>Exec-managerial</td>\n",
       "      <td>Husband</td>\n",
       "      <td>White</td>\n",
       "      <td>Male</td>\n",
       "      <td>0</td>\n",
       "      <td>0</td>\n",
       "      <td>13</td>\n",
       "      <td>United-States</td>\n",
       "      <td>&lt;=50K</td>\n",
       "    </tr>\n",
       "    <tr>\n",
       "      <th>2</th>\n",
       "      <td>38</td>\n",
       "      <td>Private</td>\n",
       "      <td>215646</td>\n",
       "      <td>HS-grad</td>\n",
       "      <td>9</td>\n",
       "      <td>Divorced</td>\n",
       "      <td>Handlers-cleaners</td>\n",
       "      <td>Not-in-family</td>\n",
       "      <td>White</td>\n",
       "      <td>Male</td>\n",
       "      <td>0</td>\n",
       "      <td>0</td>\n",
       "      <td>40</td>\n",
       "      <td>United-States</td>\n",
       "      <td>&lt;=50K</td>\n",
       "    </tr>\n",
       "    <tr>\n",
       "      <th>3</th>\n",
       "      <td>53</td>\n",
       "      <td>Private</td>\n",
       "      <td>234721</td>\n",
       "      <td>11th</td>\n",
       "      <td>7</td>\n",
       "      <td>Married-civ-spouse</td>\n",
       "      <td>Handlers-cleaners</td>\n",
       "      <td>Husband</td>\n",
       "      <td>Black</td>\n",
       "      <td>Male</td>\n",
       "      <td>0</td>\n",
       "      <td>0</td>\n",
       "      <td>40</td>\n",
       "      <td>United-States</td>\n",
       "      <td>&lt;=50K</td>\n",
       "    </tr>\n",
       "    <tr>\n",
       "      <th>4</th>\n",
       "      <td>28</td>\n",
       "      <td>Private</td>\n",
       "      <td>338409</td>\n",
       "      <td>Bachelors</td>\n",
       "      <td>13</td>\n",
       "      <td>Married-civ-spouse</td>\n",
       "      <td>Prof-specialty</td>\n",
       "      <td>Wife</td>\n",
       "      <td>Black</td>\n",
       "      <td>Female</td>\n",
       "      <td>0</td>\n",
       "      <td>0</td>\n",
       "      <td>40</td>\n",
       "      <td>Cuba</td>\n",
       "      <td>&lt;=50K</td>\n",
       "    </tr>\n",
       "  </tbody>\n",
       "</table>\n",
       "</div>"
      ],
      "text/plain": [
       "   age          workclass  fnlwgt   education  education-num  \\\n",
       "0   39          State-gov   77516   Bachelors             13   \n",
       "1   50   Self-emp-not-inc   83311   Bachelors             13   \n",
       "2   38            Private  215646     HS-grad              9   \n",
       "3   53            Private  234721        11th              7   \n",
       "4   28            Private  338409   Bachelors             13   \n",
       "\n",
       "        marital-status          occupation    relationship    race      sex  \\\n",
       "0        Never-married        Adm-clerical   Not-in-family   White     Male   \n",
       "1   Married-civ-spouse     Exec-managerial         Husband   White     Male   \n",
       "2             Divorced   Handlers-cleaners   Not-in-family   White     Male   \n",
       "3   Married-civ-spouse   Handlers-cleaners         Husband   Black     Male   \n",
       "4   Married-civ-spouse      Prof-specialty            Wife   Black   Female   \n",
       "\n",
       "   capital-gain  capital-loss  hours-per-week  native-country  income  \n",
       "0          2174             0              40   United-States   <=50K  \n",
       "1             0             0              13   United-States   <=50K  \n",
       "2             0             0              40   United-States   <=50K  \n",
       "3             0             0              40   United-States   <=50K  \n",
       "4             0             0              40            Cuba   <=50K  "
      ]
     },
     "execution_count": 2,
     "metadata": {},
     "output_type": "execute_result"
    }
   ],
   "source": [
    "# data\n",
    "\n",
    "colnames = 'age workclass fnlwgt education education-num marital-status occupation relationship race sex capital-gain capital-loss hours-per-week native-country income'.split()\n",
    "\n",
    "df = pd.read_csv('adult.data.csv', names = colnames, header=None)\n",
    "df.head()"
   ]
  },
  {
   "cell_type": "code",
   "execution_count": 3,
   "id": "b0cbe93d",
   "metadata": {},
   "outputs": [],
   "source": [
    "# remove whitespace from df['income']\n",
    "\n",
    "def rm_space(data):\n",
    "    data = data.strip()\n",
    "    return data\n",
    "\n",
    "df['income'] = df.income.map(rm_space)"
   ]
  },
  {
   "cell_type": "code",
   "execution_count": 4,
   "id": "a9d74020",
   "metadata": {},
   "outputs": [
    {
     "name": "stdout",
     "output_type": "stream",
     "text": [
      "<=50K    24720\n",
      ">50K      7841\n",
      "Name: income, dtype: int64\n",
      ">50K\n"
     ]
    }
   ],
   "source": [
    "print(df['income'].value_counts())\n",
    "\n",
    "# I had trouble getting the accurate str value due to Capital letters and Whitespace.\n",
    "# Here is a method for directly pulling the str value\n",
    "print(df['income'].value_counts().index[1])"
   ]
  },
  {
   "cell_type": "code",
   "execution_count": 5,
   "id": "e7da3df1",
   "metadata": {},
   "outputs": [],
   "source": [
    "# Create boolean target column\n",
    "df['target'] = (df['income'] == '>50K')\n",
    "\n",
    "# can also be done with list comprehension:s\n",
    "# df['target'] = [0 if x == '<=50K' else 1 for x in df['income']]"
   ]
  },
  {
   "cell_type": "code",
   "execution_count": 6,
   "id": "e54368ec",
   "metadata": {},
   "outputs": [
    {
     "data": {
      "text/plain": [
       "False    24720\n",
       "True      7841\n",
       "Name: target, dtype: int64"
      ]
     },
     "execution_count": 6,
     "metadata": {},
     "output_type": "execute_result"
    }
   ],
   "source": [
    "df['target'].value_counts()"
   ]
  },
  {
   "cell_type": "code",
   "execution_count": 7,
   "id": "443dafb4",
   "metadata": {},
   "outputs": [
    {
     "data": {
      "text/html": [
       "<div>\n",
       "<style scoped>\n",
       "    .dataframe tbody tr th:only-of-type {\n",
       "        vertical-align: middle;\n",
       "    }\n",
       "\n",
       "    .dataframe tbody tr th {\n",
       "        vertical-align: top;\n",
       "    }\n",
       "\n",
       "    .dataframe thead th {\n",
       "        text-align: right;\n",
       "    }\n",
       "</style>\n",
       "<table border=\"1\" class=\"dataframe\">\n",
       "  <thead>\n",
       "    <tr style=\"text-align: right;\">\n",
       "      <th></th>\n",
       "      <th>age</th>\n",
       "      <th>workclass</th>\n",
       "      <th>fnlwgt</th>\n",
       "      <th>education</th>\n",
       "      <th>education-num</th>\n",
       "      <th>marital-status</th>\n",
       "      <th>occupation</th>\n",
       "      <th>relationship</th>\n",
       "      <th>race</th>\n",
       "      <th>sex</th>\n",
       "      <th>capital-gain</th>\n",
       "      <th>capital-loss</th>\n",
       "      <th>hours-per-week</th>\n",
       "      <th>native-country</th>\n",
       "      <th>income</th>\n",
       "      <th>target</th>\n",
       "    </tr>\n",
       "  </thead>\n",
       "  <tbody>\n",
       "    <tr>\n",
       "      <th>0</th>\n",
       "      <td>39</td>\n",
       "      <td>State-gov</td>\n",
       "      <td>77516</td>\n",
       "      <td>Bachelors</td>\n",
       "      <td>13</td>\n",
       "      <td>Never-married</td>\n",
       "      <td>Adm-clerical</td>\n",
       "      <td>Not-in-family</td>\n",
       "      <td>White</td>\n",
       "      <td>Male</td>\n",
       "      <td>2174</td>\n",
       "      <td>0</td>\n",
       "      <td>40</td>\n",
       "      <td>United-States</td>\n",
       "      <td>&lt;=50K</td>\n",
       "      <td>False</td>\n",
       "    </tr>\n",
       "    <tr>\n",
       "      <th>1</th>\n",
       "      <td>50</td>\n",
       "      <td>Self-emp-not-inc</td>\n",
       "      <td>83311</td>\n",
       "      <td>Bachelors</td>\n",
       "      <td>13</td>\n",
       "      <td>Married-civ-spouse</td>\n",
       "      <td>Exec-managerial</td>\n",
       "      <td>Husband</td>\n",
       "      <td>White</td>\n",
       "      <td>Male</td>\n",
       "      <td>0</td>\n",
       "      <td>0</td>\n",
       "      <td>13</td>\n",
       "      <td>United-States</td>\n",
       "      <td>&lt;=50K</td>\n",
       "      <td>False</td>\n",
       "    </tr>\n",
       "    <tr>\n",
       "      <th>2</th>\n",
       "      <td>38</td>\n",
       "      <td>Private</td>\n",
       "      <td>215646</td>\n",
       "      <td>HS-grad</td>\n",
       "      <td>9</td>\n",
       "      <td>Divorced</td>\n",
       "      <td>Handlers-cleaners</td>\n",
       "      <td>Not-in-family</td>\n",
       "      <td>White</td>\n",
       "      <td>Male</td>\n",
       "      <td>0</td>\n",
       "      <td>0</td>\n",
       "      <td>40</td>\n",
       "      <td>United-States</td>\n",
       "      <td>&lt;=50K</td>\n",
       "      <td>False</td>\n",
       "    </tr>\n",
       "    <tr>\n",
       "      <th>3</th>\n",
       "      <td>53</td>\n",
       "      <td>Private</td>\n",
       "      <td>234721</td>\n",
       "      <td>11th</td>\n",
       "      <td>7</td>\n",
       "      <td>Married-civ-spouse</td>\n",
       "      <td>Handlers-cleaners</td>\n",
       "      <td>Husband</td>\n",
       "      <td>Black</td>\n",
       "      <td>Male</td>\n",
       "      <td>0</td>\n",
       "      <td>0</td>\n",
       "      <td>40</td>\n",
       "      <td>United-States</td>\n",
       "      <td>&lt;=50K</td>\n",
       "      <td>False</td>\n",
       "    </tr>\n",
       "    <tr>\n",
       "      <th>4</th>\n",
       "      <td>28</td>\n",
       "      <td>Private</td>\n",
       "      <td>338409</td>\n",
       "      <td>Bachelors</td>\n",
       "      <td>13</td>\n",
       "      <td>Married-civ-spouse</td>\n",
       "      <td>Prof-specialty</td>\n",
       "      <td>Wife</td>\n",
       "      <td>Black</td>\n",
       "      <td>Female</td>\n",
       "      <td>0</td>\n",
       "      <td>0</td>\n",
       "      <td>40</td>\n",
       "      <td>Cuba</td>\n",
       "      <td>&lt;=50K</td>\n",
       "      <td>False</td>\n",
       "    </tr>\n",
       "  </tbody>\n",
       "</table>\n",
       "</div>"
      ],
      "text/plain": [
       "   age          workclass  fnlwgt   education  education-num  \\\n",
       "0   39          State-gov   77516   Bachelors             13   \n",
       "1   50   Self-emp-not-inc   83311   Bachelors             13   \n",
       "2   38            Private  215646     HS-grad              9   \n",
       "3   53            Private  234721        11th              7   \n",
       "4   28            Private  338409   Bachelors             13   \n",
       "\n",
       "        marital-status          occupation    relationship    race      sex  \\\n",
       "0        Never-married        Adm-clerical   Not-in-family   White     Male   \n",
       "1   Married-civ-spouse     Exec-managerial         Husband   White     Male   \n",
       "2             Divorced   Handlers-cleaners   Not-in-family   White     Male   \n",
       "3   Married-civ-spouse   Handlers-cleaners         Husband   Black     Male   \n",
       "4   Married-civ-spouse      Prof-specialty            Wife   Black   Female   \n",
       "\n",
       "   capital-gain  capital-loss  hours-per-week  native-country income  target  \n",
       "0          2174             0              40   United-States  <=50K   False  \n",
       "1             0             0              13   United-States  <=50K   False  \n",
       "2             0             0              40   United-States  <=50K   False  \n",
       "3             0             0              40   United-States  <=50K   False  \n",
       "4             0             0              40            Cuba  <=50K   False  "
      ]
     },
     "execution_count": 7,
     "metadata": {},
     "output_type": "execute_result"
    }
   ],
   "source": [
    "df.head()"
   ]
  },
  {
   "cell_type": "code",
   "execution_count": 8,
   "id": "ef2cd708",
   "metadata": {},
   "outputs": [],
   "source": [
    "# Assign a Dataframe of Features, X, and a Series of the outcome variable, y\n",
    "X = df.drop(['income', 'target'], axis=1)\n",
    "y = df.target"
   ]
  },
  {
   "cell_type": "code",
   "execution_count": 9,
   "id": "ee082221",
   "metadata": {},
   "outputs": [
    {
     "name": "stdout",
     "output_type": "stream",
     "text": [
      "<class 'pandas.core.frame.DataFrame'>\n",
      "RangeIndex: 32561 entries, 0 to 32560\n",
      "Data columns (total 14 columns):\n",
      " #   Column          Non-Null Count  Dtype \n",
      "---  ------          --------------  ----- \n",
      " 0   age             32561 non-null  int64 \n",
      " 1   workclass       32561 non-null  object\n",
      " 2   fnlwgt          32561 non-null  int64 \n",
      " 3   education       32561 non-null  object\n",
      " 4   education-num   32561 non-null  int64 \n",
      " 5   marital-status  32561 non-null  object\n",
      " 6   occupation      32561 non-null  object\n",
      " 7   relationship    32561 non-null  object\n",
      " 8   race            32561 non-null  object\n",
      " 9   sex             32561 non-null  object\n",
      " 10  capital-gain    32561 non-null  int64 \n",
      " 11  capital-loss    32561 non-null  int64 \n",
      " 12  hours-per-week  32561 non-null  int64 \n",
      " 13  native-country  32561 non-null  object\n",
      "dtypes: int64(6), object(8)\n",
      "memory usage: 3.5+ MB\n"
     ]
    }
   ],
   "source": [
    "X.info()"
   ]
  },
  {
   "cell_type": "code",
   "execution_count": 10,
   "id": "bc205bf3",
   "metadata": {},
   "outputs": [
    {
     "data": {
      "text/plain": [
       "0    False\n",
       "1    False\n",
       "2    False\n",
       "3    False\n",
       "4    False\n",
       "Name: target, dtype: bool"
      ]
     },
     "execution_count": 10,
     "metadata": {},
     "output_type": "execute_result"
    }
   ],
   "source": [
    "y.head()"
   ]
  },
  {
   "cell_type": "code",
   "execution_count": 11,
   "id": "54000ceb",
   "metadata": {},
   "outputs": [
    {
     "data": {
      "text/plain": [
       "False    24720\n",
       "True      7841\n",
       "Name: target, dtype: int64"
      ]
     },
     "execution_count": 11,
     "metadata": {},
     "output_type": "execute_result"
    }
   ],
   "source": [
    "y.value_counts()"
   ]
  },
  {
   "cell_type": "markdown",
   "id": "58cb3b5d",
   "metadata": {},
   "source": [
    "## Basic Data Cleaning\n",
    "\n",
    "### Dealing with Data Types"
   ]
  },
  {
   "cell_type": "markdown",
   "id": "e25177a1",
   "metadata": {},
   "source": [
    "1. Numeric (income, age)\n",
    "2. Categorical (gender, nationality)\n",
    "3. Ordinal (low/med/high)"
   ]
  },
  {
   "cell_type": "markdown",
   "id": "929ae5e0",
   "metadata": {},
   "source": [
    "Computers can only handle numeric features"
   ]
  },
  {
   "cell_type": "markdown",
   "id": "83c9beaf",
   "metadata": {},
   "source": [
    "Must Convert\n",
    "- Create Dummy Variables\n",
    "- Categorical, Ordinal Feature --> Many dummy column Features"
   ]
  },
  {
   "cell_type": "code",
   "execution_count": 12,
   "id": "5c7c4c79",
   "metadata": {},
   "outputs": [
    {
     "data": {
      "text/plain": [
       " HS-grad         10501\n",
       " Some-college     7291\n",
       " Bachelors        5355\n",
       " Masters          1723\n",
       " Assoc-voc        1382\n",
       " 11th             1175\n",
       " Assoc-acdm       1067\n",
       " 10th              933\n",
       " 7th-8th           646\n",
       " Prof-school       576\n",
       " 9th               514\n",
       " 12th              433\n",
       " Doctorate         413\n",
       " 5th-6th           333\n",
       " 1st-4th           168\n",
       " Preschool          51\n",
       "Name: education, dtype: int64"
      ]
     },
     "execution_count": 12,
     "metadata": {},
     "output_type": "execute_result"
    }
   ],
   "source": [
    "# See Categorical variable: Education\n",
    "X['education'].value_counts()"
   ]
  },
  {
   "cell_type": "code",
   "execution_count": 13,
   "id": "c491074d",
   "metadata": {},
   "outputs": [
    {
     "name": "stdout",
     "output_type": "stream",
     "text": [
      "    11th   Bachelors   HS-grad\n",
      "0      0           1         0\n",
      "1      0           1         0\n",
      "2      0           0         1\n",
      "3      1           0         0\n",
      "4      0           1         0\n"
     ]
    }
   ],
   "source": [
    "# explore pandas get_dummies\n",
    "print(pd.get_dummies(X['education'].head(5)))"
   ]
  },
  {
   "cell_type": "code",
   "execution_count": 14,
   "id": "285f0bb0",
   "metadata": {},
   "outputs": [
    {
     "name": "stdout",
     "output_type": "stream",
     "text": [
      "Column -- workclass -- has  9  unique categories\n",
      "Column -- education -- has  16  unique categories\n",
      "Column -- marital-status -- has  7  unique categories\n",
      "Column -- occupation -- has  15  unique categories\n",
      "Column -- relationship -- has  6  unique categories\n",
      "Column -- race -- has  5  unique categories\n",
      "Column -- sex -- has  2  unique categories\n",
      "Column -- native-country -- has  42  unique categories\n"
     ]
    }
   ],
   "source": [
    "# Decide which categorical variables you want to use in the model\n",
    "def unique_categories(DataFrame):\n",
    "    for DataFrame_col in DataFrame.columns:\n",
    "        if DataFrame[DataFrame_col].dtype == 'object':\n",
    "            unique_cat = len(DataFrame[DataFrame_col].unique())\n",
    "            print(\"Column --\", DataFrame_col, \"-- has \", unique_cat, \" unique categories\")\n",
    "unique_categories(X)"
   ]
  },
  {
   "cell_type": "markdown",
   "id": "954cf440",
   "metadata": {},
   "source": [
    "### Handle 'native-country'"
   ]
  },
  {
   "cell_type": "code",
   "execution_count": 15,
   "id": "b81d6eff",
   "metadata": {
    "scrolled": true
   },
   "outputs": [
    {
     "data": {
      "text/plain": [
       " United-States                 29170\n",
       " Mexico                          643\n",
       " ?                               583\n",
       " Philippines                     198\n",
       " Germany                         137\n",
       " Canada                          121\n",
       " Puerto-Rico                     114\n",
       " El-Salvador                     106\n",
       " India                           100\n",
       " Cuba                             95\n",
       " England                          90\n",
       " Jamaica                          81\n",
       " South                            80\n",
       " China                            75\n",
       " Italy                            73\n",
       " Dominican-Republic               70\n",
       " Vietnam                          67\n",
       " Guatemala                        64\n",
       " Japan                            62\n",
       " Poland                           60\n",
       " Columbia                         59\n",
       " Taiwan                           51\n",
       " Haiti                            44\n",
       " Iran                             43\n",
       " Portugal                         37\n",
       " Nicaragua                        34\n",
       " Peru                             31\n",
       " France                           29\n",
       " Greece                           29\n",
       " Ecuador                          28\n",
       " Ireland                          24\n",
       " Hong                             20\n",
       " Cambodia                         19\n",
       " Trinadad&Tobago                  19\n",
       " Laos                             18\n",
       " Thailand                         18\n",
       " Yugoslavia                       16\n",
       " Outlying-US(Guam-USVI-etc)       14\n",
       " Honduras                         13\n",
       " Hungary                          13\n",
       " Scotland                         12\n",
       " Holand-Netherlands                1\n",
       "Name: native-country, dtype: int64"
      ]
     },
     "execution_count": 15,
     "metadata": {},
     "output_type": "execute_result"
    }
   ],
   "source": [
    "# native-country has many categories, but most are 'U.S.'\n",
    "# we can make just two bins. 'U.S.' and 'other'. One column is needed for this.\n",
    "X['native-country'].value_counts()"
   ]
  },
  {
   "cell_type": "code",
   "execution_count": 16,
   "id": "b874a7ef",
   "metadata": {},
   "outputs": [
    {
     "data": {
      "text/plain": [
       "' United-States'"
      ]
     },
     "execution_count": 16,
     "metadata": {},
     "output_type": "execute_result"
    }
   ],
   "source": [
    "X['native-country'].value_counts().index[0]"
   ]
  },
  {
   "cell_type": "code",
   "execution_count": 17,
   "id": "b00a0621",
   "metadata": {},
   "outputs": [],
   "source": [
    "X['country-U.S.'] = (X['native-country'] == X['native-country'].value_counts().index[0])"
   ]
  },
  {
   "cell_type": "code",
   "execution_count": 18,
   "id": "bcd0376a",
   "metadata": {},
   "outputs": [
    {
     "data": {
      "text/plain": [
       "True     29170\n",
       "False     3391\n",
       "Name: country-U.S., dtype: int64"
      ]
     },
     "execution_count": 18,
     "metadata": {},
     "output_type": "execute_result"
    }
   ],
   "source": [
    "X['country-U.S.'].value_counts()"
   ]
  },
  {
   "cell_type": "code",
   "execution_count": 19,
   "id": "c4c3043a",
   "metadata": {},
   "outputs": [
    {
     "data": {
      "text/html": [
       "<div>\n",
       "<style scoped>\n",
       "    .dataframe tbody tr th:only-of-type {\n",
       "        vertical-align: middle;\n",
       "    }\n",
       "\n",
       "    .dataframe tbody tr th {\n",
       "        vertical-align: top;\n",
       "    }\n",
       "\n",
       "    .dataframe thead th {\n",
       "        text-align: right;\n",
       "    }\n",
       "</style>\n",
       "<table border=\"1\" class=\"dataframe\">\n",
       "  <thead>\n",
       "    <tr style=\"text-align: right;\">\n",
       "      <th></th>\n",
       "      <th>age</th>\n",
       "      <th>workclass</th>\n",
       "      <th>fnlwgt</th>\n",
       "      <th>education</th>\n",
       "      <th>education-num</th>\n",
       "      <th>marital-status</th>\n",
       "      <th>occupation</th>\n",
       "      <th>relationship</th>\n",
       "      <th>race</th>\n",
       "      <th>sex</th>\n",
       "      <th>capital-gain</th>\n",
       "      <th>capital-loss</th>\n",
       "      <th>hours-per-week</th>\n",
       "      <th>native-country</th>\n",
       "      <th>country-U.S.</th>\n",
       "    </tr>\n",
       "  </thead>\n",
       "  <tbody>\n",
       "    <tr>\n",
       "      <th>0</th>\n",
       "      <td>39</td>\n",
       "      <td>State-gov</td>\n",
       "      <td>77516</td>\n",
       "      <td>Bachelors</td>\n",
       "      <td>13</td>\n",
       "      <td>Never-married</td>\n",
       "      <td>Adm-clerical</td>\n",
       "      <td>Not-in-family</td>\n",
       "      <td>White</td>\n",
       "      <td>Male</td>\n",
       "      <td>2174</td>\n",
       "      <td>0</td>\n",
       "      <td>40</td>\n",
       "      <td>United-States</td>\n",
       "      <td>True</td>\n",
       "    </tr>\n",
       "  </tbody>\n",
       "</table>\n",
       "</div>"
      ],
      "text/plain": [
       "   age   workclass  fnlwgt   education  education-num  marital-status  \\\n",
       "0   39   State-gov   77516   Bachelors             13   Never-married   \n",
       "\n",
       "      occupation    relationship    race    sex  capital-gain  capital-loss  \\\n",
       "0   Adm-clerical   Not-in-family   White   Male          2174             0   \n",
       "\n",
       "   hours-per-week  native-country  country-U.S.  \n",
       "0              40   United-States          True  "
      ]
     },
     "execution_count": 19,
     "metadata": {},
     "output_type": "execute_result"
    }
   ],
   "source": [
    "X.head(1)"
   ]
  },
  {
   "cell_type": "code",
   "execution_count": 20,
   "id": "5cbc302c",
   "metadata": {},
   "outputs": [
    {
     "data": {
      "text/html": [
       "<div>\n",
       "<style scoped>\n",
       "    .dataframe tbody tr th:only-of-type {\n",
       "        vertical-align: middle;\n",
       "    }\n",
       "\n",
       "    .dataframe tbody tr th {\n",
       "        vertical-align: top;\n",
       "    }\n",
       "\n",
       "    .dataframe thead th {\n",
       "        text-align: right;\n",
       "    }\n",
       "</style>\n",
       "<table border=\"1\" class=\"dataframe\">\n",
       "  <thead>\n",
       "    <tr style=\"text-align: right;\">\n",
       "      <th></th>\n",
       "      <th>age</th>\n",
       "      <th>workclass</th>\n",
       "      <th>fnlwgt</th>\n",
       "      <th>education</th>\n",
       "      <th>education-num</th>\n",
       "      <th>marital-status</th>\n",
       "      <th>occupation</th>\n",
       "      <th>relationship</th>\n",
       "      <th>race</th>\n",
       "      <th>sex</th>\n",
       "      <th>capital-gain</th>\n",
       "      <th>capital-loss</th>\n",
       "      <th>hours-per-week</th>\n",
       "      <th>country-U.S.</th>\n",
       "    </tr>\n",
       "  </thead>\n",
       "  <tbody>\n",
       "    <tr>\n",
       "      <th>0</th>\n",
       "      <td>39</td>\n",
       "      <td>State-gov</td>\n",
       "      <td>77516</td>\n",
       "      <td>Bachelors</td>\n",
       "      <td>13</td>\n",
       "      <td>Never-married</td>\n",
       "      <td>Adm-clerical</td>\n",
       "      <td>Not-in-family</td>\n",
       "      <td>White</td>\n",
       "      <td>Male</td>\n",
       "      <td>2174</td>\n",
       "      <td>0</td>\n",
       "      <td>40</td>\n",
       "      <td>True</td>\n",
       "    </tr>\n",
       "  </tbody>\n",
       "</table>\n",
       "</div>"
      ],
      "text/plain": [
       "   age   workclass  fnlwgt   education  education-num  marital-status  \\\n",
       "0   39   State-gov   77516   Bachelors             13   Never-married   \n",
       "\n",
       "      occupation    relationship    race    sex  capital-gain  capital-loss  \\\n",
       "0   Adm-clerical   Not-in-family   White   Male          2174             0   \n",
       "\n",
       "   hours-per-week  country-U.S.  \n",
       "0              40          True  "
      ]
     },
     "execution_count": 20,
     "metadata": {},
     "output_type": "execute_result"
    }
   ],
   "source": [
    "X = X.drop('native-country', axis=1)\n",
    "X.head(1)"
   ]
  },
  {
   "cell_type": "markdown",
   "id": "87991233",
   "metadata": {},
   "source": [
    "## Handling Categorical to dummy"
   ]
  },
  {
   "cell_type": "code",
   "execution_count": 21,
   "id": "20276818",
   "metadata": {},
   "outputs": [
    {
     "data": {
      "text/plain": [
       "['workclass',\n",
       " 'education',\n",
       " 'marital-status',\n",
       " 'occupation',\n",
       " 'relationship',\n",
       " 'race',\n",
       " 'sex']"
      ]
     },
     "execution_count": 21,
     "metadata": {},
     "output_type": "execute_result"
    }
   ],
   "source": [
    "# Create a list of features to dummy\n",
    "def column_objects(df):\n",
    "    # return a list of columns with dtype object\n",
    "    object_cols = []\n",
    "    for col in df.columns:\n",
    "        if df[col].dtype == 'object':\n",
    "            object_cols.append(col)\n",
    "    return object_cols\n",
    "\n",
    "todummy_list = column_objects(X)\n",
    "todummy_list"
   ]
  },
  {
   "cell_type": "code",
   "execution_count": 22,
   "id": "49eb0d7f",
   "metadata": {},
   "outputs": [
    {
     "data": {
      "text/plain": [
       "list"
      ]
     },
     "execution_count": 22,
     "metadata": {},
     "output_type": "execute_result"
    }
   ],
   "source": [
    "type(todummy_list)"
   ]
  },
  {
   "cell_type": "code",
   "execution_count": 23,
   "id": "ff740388",
   "metadata": {},
   "outputs": [
    {
     "data": {
      "text/html": [
       "<div>\n",
       "<style scoped>\n",
       "    .dataframe tbody tr th:only-of-type {\n",
       "        vertical-align: middle;\n",
       "    }\n",
       "\n",
       "    .dataframe tbody tr th {\n",
       "        vertical-align: top;\n",
       "    }\n",
       "\n",
       "    .dataframe thead th {\n",
       "        text-align: right;\n",
       "    }\n",
       "</style>\n",
       "<table border=\"1\" class=\"dataframe\">\n",
       "  <thead>\n",
       "    <tr style=\"text-align: right;\">\n",
       "      <th></th>\n",
       "      <th>age</th>\n",
       "      <th>workclass</th>\n",
       "      <th>fnlwgt</th>\n",
       "      <th>education</th>\n",
       "      <th>education-num</th>\n",
       "      <th>marital-status</th>\n",
       "      <th>occupation</th>\n",
       "      <th>relationship</th>\n",
       "      <th>race</th>\n",
       "      <th>sex</th>\n",
       "      <th>capital-gain</th>\n",
       "      <th>capital-loss</th>\n",
       "      <th>hours-per-week</th>\n",
       "      <th>country-U.S.</th>\n",
       "    </tr>\n",
       "  </thead>\n",
       "  <tbody>\n",
       "    <tr>\n",
       "      <th>0</th>\n",
       "      <td>39</td>\n",
       "      <td>State-gov</td>\n",
       "      <td>77516</td>\n",
       "      <td>Bachelors</td>\n",
       "      <td>13</td>\n",
       "      <td>Never-married</td>\n",
       "      <td>Adm-clerical</td>\n",
       "      <td>Not-in-family</td>\n",
       "      <td>White</td>\n",
       "      <td>Male</td>\n",
       "      <td>2174</td>\n",
       "      <td>0</td>\n",
       "      <td>40</td>\n",
       "      <td>True</td>\n",
       "    </tr>\n",
       "    <tr>\n",
       "      <th>1</th>\n",
       "      <td>50</td>\n",
       "      <td>Self-emp-not-inc</td>\n",
       "      <td>83311</td>\n",
       "      <td>Bachelors</td>\n",
       "      <td>13</td>\n",
       "      <td>Married-civ-spouse</td>\n",
       "      <td>Exec-managerial</td>\n",
       "      <td>Husband</td>\n",
       "      <td>White</td>\n",
       "      <td>Male</td>\n",
       "      <td>0</td>\n",
       "      <td>0</td>\n",
       "      <td>13</td>\n",
       "      <td>True</td>\n",
       "    </tr>\n",
       "    <tr>\n",
       "      <th>2</th>\n",
       "      <td>38</td>\n",
       "      <td>Private</td>\n",
       "      <td>215646</td>\n",
       "      <td>HS-grad</td>\n",
       "      <td>9</td>\n",
       "      <td>Divorced</td>\n",
       "      <td>Handlers-cleaners</td>\n",
       "      <td>Not-in-family</td>\n",
       "      <td>White</td>\n",
       "      <td>Male</td>\n",
       "      <td>0</td>\n",
       "      <td>0</td>\n",
       "      <td>40</td>\n",
       "      <td>True</td>\n",
       "    </tr>\n",
       "    <tr>\n",
       "      <th>3</th>\n",
       "      <td>53</td>\n",
       "      <td>Private</td>\n",
       "      <td>234721</td>\n",
       "      <td>11th</td>\n",
       "      <td>7</td>\n",
       "      <td>Married-civ-spouse</td>\n",
       "      <td>Handlers-cleaners</td>\n",
       "      <td>Husband</td>\n",
       "      <td>Black</td>\n",
       "      <td>Male</td>\n",
       "      <td>0</td>\n",
       "      <td>0</td>\n",
       "      <td>40</td>\n",
       "      <td>True</td>\n",
       "    </tr>\n",
       "    <tr>\n",
       "      <th>4</th>\n",
       "      <td>28</td>\n",
       "      <td>Private</td>\n",
       "      <td>338409</td>\n",
       "      <td>Bachelors</td>\n",
       "      <td>13</td>\n",
       "      <td>Married-civ-spouse</td>\n",
       "      <td>Prof-specialty</td>\n",
       "      <td>Wife</td>\n",
       "      <td>Black</td>\n",
       "      <td>Female</td>\n",
       "      <td>0</td>\n",
       "      <td>0</td>\n",
       "      <td>40</td>\n",
       "      <td>False</td>\n",
       "    </tr>\n",
       "  </tbody>\n",
       "</table>\n",
       "</div>"
      ],
      "text/plain": [
       "   age          workclass  fnlwgt   education  education-num  \\\n",
       "0   39          State-gov   77516   Bachelors             13   \n",
       "1   50   Self-emp-not-inc   83311   Bachelors             13   \n",
       "2   38            Private  215646     HS-grad              9   \n",
       "3   53            Private  234721        11th              7   \n",
       "4   28            Private  338409   Bachelors             13   \n",
       "\n",
       "        marital-status          occupation    relationship    race      sex  \\\n",
       "0        Never-married        Adm-clerical   Not-in-family   White     Male   \n",
       "1   Married-civ-spouse     Exec-managerial         Husband   White     Male   \n",
       "2             Divorced   Handlers-cleaners   Not-in-family   White     Male   \n",
       "3   Married-civ-spouse   Handlers-cleaners         Husband   Black     Male   \n",
       "4   Married-civ-spouse      Prof-specialty            Wife   Black   Female   \n",
       "\n",
       "   capital-gain  capital-loss  hours-per-week  country-U.S.  \n",
       "0          2174             0              40          True  \n",
       "1             0             0              13          True  \n",
       "2             0             0              40          True  \n",
       "3             0             0              40          True  \n",
       "4             0             0              40         False  "
      ]
     },
     "execution_count": 23,
     "metadata": {},
     "output_type": "execute_result"
    }
   ],
   "source": [
    "X.head()"
   ]
  },
  {
   "cell_type": "code",
   "execution_count": 24,
   "id": "ad71fae8",
   "metadata": {},
   "outputs": [
    {
     "data": {
      "text/html": [
       "<div>\n",
       "<style scoped>\n",
       "    .dataframe tbody tr th:only-of-type {\n",
       "        vertical-align: middle;\n",
       "    }\n",
       "\n",
       "    .dataframe tbody tr th {\n",
       "        vertical-align: top;\n",
       "    }\n",
       "\n",
       "    .dataframe thead th {\n",
       "        text-align: right;\n",
       "    }\n",
       "</style>\n",
       "<table border=\"1\" class=\"dataframe\">\n",
       "  <thead>\n",
       "    <tr style=\"text-align: right;\">\n",
       "      <th></th>\n",
       "      <th>age</th>\n",
       "      <th>fnlwgt</th>\n",
       "      <th>education-num</th>\n",
       "      <th>capital-gain</th>\n",
       "      <th>capital-loss</th>\n",
       "      <th>hours-per-week</th>\n",
       "      <th>country-U.S.</th>\n",
       "      <th>workclass_ ?</th>\n",
       "      <th>workclass_ Federal-gov</th>\n",
       "      <th>workclass_ Local-gov</th>\n",
       "      <th>...</th>\n",
       "      <th>relationship_ Own-child</th>\n",
       "      <th>relationship_ Unmarried</th>\n",
       "      <th>relationship_ Wife</th>\n",
       "      <th>race_ Amer-Indian-Eskimo</th>\n",
       "      <th>race_ Asian-Pac-Islander</th>\n",
       "      <th>race_ Black</th>\n",
       "      <th>race_ Other</th>\n",
       "      <th>race_ White</th>\n",
       "      <th>sex_ Female</th>\n",
       "      <th>sex_ Male</th>\n",
       "    </tr>\n",
       "  </thead>\n",
       "  <tbody>\n",
       "    <tr>\n",
       "      <th>0</th>\n",
       "      <td>39</td>\n",
       "      <td>77516</td>\n",
       "      <td>13</td>\n",
       "      <td>2174</td>\n",
       "      <td>0</td>\n",
       "      <td>40</td>\n",
       "      <td>True</td>\n",
       "      <td>0</td>\n",
       "      <td>0</td>\n",
       "      <td>0</td>\n",
       "      <td>...</td>\n",
       "      <td>0</td>\n",
       "      <td>0</td>\n",
       "      <td>0</td>\n",
       "      <td>0</td>\n",
       "      <td>0</td>\n",
       "      <td>0</td>\n",
       "      <td>0</td>\n",
       "      <td>1</td>\n",
       "      <td>0</td>\n",
       "      <td>1</td>\n",
       "    </tr>\n",
       "    <tr>\n",
       "      <th>1</th>\n",
       "      <td>50</td>\n",
       "      <td>83311</td>\n",
       "      <td>13</td>\n",
       "      <td>0</td>\n",
       "      <td>0</td>\n",
       "      <td>13</td>\n",
       "      <td>True</td>\n",
       "      <td>0</td>\n",
       "      <td>0</td>\n",
       "      <td>0</td>\n",
       "      <td>...</td>\n",
       "      <td>0</td>\n",
       "      <td>0</td>\n",
       "      <td>0</td>\n",
       "      <td>0</td>\n",
       "      <td>0</td>\n",
       "      <td>0</td>\n",
       "      <td>0</td>\n",
       "      <td>1</td>\n",
       "      <td>0</td>\n",
       "      <td>1</td>\n",
       "    </tr>\n",
       "    <tr>\n",
       "      <th>2</th>\n",
       "      <td>38</td>\n",
       "      <td>215646</td>\n",
       "      <td>9</td>\n",
       "      <td>0</td>\n",
       "      <td>0</td>\n",
       "      <td>40</td>\n",
       "      <td>True</td>\n",
       "      <td>0</td>\n",
       "      <td>0</td>\n",
       "      <td>0</td>\n",
       "      <td>...</td>\n",
       "      <td>0</td>\n",
       "      <td>0</td>\n",
       "      <td>0</td>\n",
       "      <td>0</td>\n",
       "      <td>0</td>\n",
       "      <td>0</td>\n",
       "      <td>0</td>\n",
       "      <td>1</td>\n",
       "      <td>0</td>\n",
       "      <td>1</td>\n",
       "    </tr>\n",
       "    <tr>\n",
       "      <th>3</th>\n",
       "      <td>53</td>\n",
       "      <td>234721</td>\n",
       "      <td>7</td>\n",
       "      <td>0</td>\n",
       "      <td>0</td>\n",
       "      <td>40</td>\n",
       "      <td>True</td>\n",
       "      <td>0</td>\n",
       "      <td>0</td>\n",
       "      <td>0</td>\n",
       "      <td>...</td>\n",
       "      <td>0</td>\n",
       "      <td>0</td>\n",
       "      <td>0</td>\n",
       "      <td>0</td>\n",
       "      <td>0</td>\n",
       "      <td>1</td>\n",
       "      <td>0</td>\n",
       "      <td>0</td>\n",
       "      <td>0</td>\n",
       "      <td>1</td>\n",
       "    </tr>\n",
       "    <tr>\n",
       "      <th>4</th>\n",
       "      <td>28</td>\n",
       "      <td>338409</td>\n",
       "      <td>13</td>\n",
       "      <td>0</td>\n",
       "      <td>0</td>\n",
       "      <td>40</td>\n",
       "      <td>False</td>\n",
       "      <td>0</td>\n",
       "      <td>0</td>\n",
       "      <td>0</td>\n",
       "      <td>...</td>\n",
       "      <td>0</td>\n",
       "      <td>0</td>\n",
       "      <td>1</td>\n",
       "      <td>0</td>\n",
       "      <td>0</td>\n",
       "      <td>1</td>\n",
       "      <td>0</td>\n",
       "      <td>0</td>\n",
       "      <td>1</td>\n",
       "      <td>0</td>\n",
       "    </tr>\n",
       "  </tbody>\n",
       "</table>\n",
       "<p>5 rows × 67 columns</p>\n",
       "</div>"
      ],
      "text/plain": [
       "   age  fnlwgt  education-num  capital-gain  capital-loss  hours-per-week  \\\n",
       "0   39   77516             13          2174             0              40   \n",
       "1   50   83311             13             0             0              13   \n",
       "2   38  215646              9             0             0              40   \n",
       "3   53  234721              7             0             0              40   \n",
       "4   28  338409             13             0             0              40   \n",
       "\n",
       "   country-U.S.  workclass_ ?  workclass_ Federal-gov  workclass_ Local-gov  \\\n",
       "0          True             0                       0                     0   \n",
       "1          True             0                       0                     0   \n",
       "2          True             0                       0                     0   \n",
       "3          True             0                       0                     0   \n",
       "4         False             0                       0                     0   \n",
       "\n",
       "   ...  relationship_ Own-child  relationship_ Unmarried  relationship_ Wife  \\\n",
       "0  ...                        0                        0                   0   \n",
       "1  ...                        0                        0                   0   \n",
       "2  ...                        0                        0                   0   \n",
       "3  ...                        0                        0                   0   \n",
       "4  ...                        0                        0                   1   \n",
       "\n",
       "   race_ Amer-Indian-Eskimo  race_ Asian-Pac-Islander  race_ Black  \\\n",
       "0                         0                         0            0   \n",
       "1                         0                         0            0   \n",
       "2                         0                         0            0   \n",
       "3                         0                         0            1   \n",
       "4                         0                         0            1   \n",
       "\n",
       "   race_ Other  race_ White  sex_ Female  sex_ Male  \n",
       "0            0            1            0          1  \n",
       "1            0            1            0          1  \n",
       "2            0            1            0          1  \n",
       "3            0            0            0          1  \n",
       "4            0            0            1          0  \n",
       "\n",
       "[5 rows x 67 columns]"
      ]
     },
     "execution_count": 24,
     "metadata": {},
     "output_type": "execute_result"
    }
   ],
   "source": [
    "def make_dummies(df, todummy_list):\n",
    "    for s in todummy_list:\n",
    "        new_dummies = pd.get_dummies(df[s], prefix=s)\n",
    "        df.drop(s, axis=1, inplace=True)\n",
    "        df = pd.concat([df, new_dummies], axis=1)\n",
    "    return df\n",
    "\n",
    "X = make_dummies(X, todummy_list)\n",
    "X.head()"
   ]
  },
  {
   "cell_type": "code",
   "execution_count": 25,
   "id": "6459ac41",
   "metadata": {
    "scrolled": true
   },
   "outputs": [
    {
     "name": "stdout",
     "output_type": "stream",
     "text": [
      "<class 'pandas.core.frame.DataFrame'>\n",
      "RangeIndex: 32561 entries, 0 to 32560\n",
      "Data columns (total 67 columns):\n",
      " #   Column                                 Non-Null Count  Dtype\n",
      "---  ------                                 --------------  -----\n",
      " 0   age                                    32561 non-null  int64\n",
      " 1   fnlwgt                                 32561 non-null  int64\n",
      " 2   education-num                          32561 non-null  int64\n",
      " 3   capital-gain                           32561 non-null  int64\n",
      " 4   capital-loss                           32561 non-null  int64\n",
      " 5   hours-per-week                         32561 non-null  int64\n",
      " 6   country-U.S.                           32561 non-null  bool \n",
      " 7   workclass_ ?                           32561 non-null  uint8\n",
      " 8   workclass_ Federal-gov                 32561 non-null  uint8\n",
      " 9   workclass_ Local-gov                   32561 non-null  uint8\n",
      " 10  workclass_ Never-worked                32561 non-null  uint8\n",
      " 11  workclass_ Private                     32561 non-null  uint8\n",
      " 12  workclass_ Self-emp-inc                32561 non-null  uint8\n",
      " 13  workclass_ Self-emp-not-inc            32561 non-null  uint8\n",
      " 14  workclass_ State-gov                   32561 non-null  uint8\n",
      " 15  workclass_ Without-pay                 32561 non-null  uint8\n",
      " 16  education_ 10th                        32561 non-null  uint8\n",
      " 17  education_ 11th                        32561 non-null  uint8\n",
      " 18  education_ 12th                        32561 non-null  uint8\n",
      " 19  education_ 1st-4th                     32561 non-null  uint8\n",
      " 20  education_ 5th-6th                     32561 non-null  uint8\n",
      " 21  education_ 7th-8th                     32561 non-null  uint8\n",
      " 22  education_ 9th                         32561 non-null  uint8\n",
      " 23  education_ Assoc-acdm                  32561 non-null  uint8\n",
      " 24  education_ Assoc-voc                   32561 non-null  uint8\n",
      " 25  education_ Bachelors                   32561 non-null  uint8\n",
      " 26  education_ Doctorate                   32561 non-null  uint8\n",
      " 27  education_ HS-grad                     32561 non-null  uint8\n",
      " 28  education_ Masters                     32561 non-null  uint8\n",
      " 29  education_ Preschool                   32561 non-null  uint8\n",
      " 30  education_ Prof-school                 32561 non-null  uint8\n",
      " 31  education_ Some-college                32561 non-null  uint8\n",
      " 32  marital-status_ Divorced               32561 non-null  uint8\n",
      " 33  marital-status_ Married-AF-spouse      32561 non-null  uint8\n",
      " 34  marital-status_ Married-civ-spouse     32561 non-null  uint8\n",
      " 35  marital-status_ Married-spouse-absent  32561 non-null  uint8\n",
      " 36  marital-status_ Never-married          32561 non-null  uint8\n",
      " 37  marital-status_ Separated              32561 non-null  uint8\n",
      " 38  marital-status_ Widowed                32561 non-null  uint8\n",
      " 39  occupation_ ?                          32561 non-null  uint8\n",
      " 40  occupation_ Adm-clerical               32561 non-null  uint8\n",
      " 41  occupation_ Armed-Forces               32561 non-null  uint8\n",
      " 42  occupation_ Craft-repair               32561 non-null  uint8\n",
      " 43  occupation_ Exec-managerial            32561 non-null  uint8\n",
      " 44  occupation_ Farming-fishing            32561 non-null  uint8\n",
      " 45  occupation_ Handlers-cleaners          32561 non-null  uint8\n",
      " 46  occupation_ Machine-op-inspct          32561 non-null  uint8\n",
      " 47  occupation_ Other-service              32561 non-null  uint8\n",
      " 48  occupation_ Priv-house-serv            32561 non-null  uint8\n",
      " 49  occupation_ Prof-specialty             32561 non-null  uint8\n",
      " 50  occupation_ Protective-serv            32561 non-null  uint8\n",
      " 51  occupation_ Sales                      32561 non-null  uint8\n",
      " 52  occupation_ Tech-support               32561 non-null  uint8\n",
      " 53  occupation_ Transport-moving           32561 non-null  uint8\n",
      " 54  relationship_ Husband                  32561 non-null  uint8\n",
      " 55  relationship_ Not-in-family            32561 non-null  uint8\n",
      " 56  relationship_ Other-relative           32561 non-null  uint8\n",
      " 57  relationship_ Own-child                32561 non-null  uint8\n",
      " 58  relationship_ Unmarried                32561 non-null  uint8\n",
      " 59  relationship_ Wife                     32561 non-null  uint8\n",
      " 60  race_ Amer-Indian-Eskimo               32561 non-null  uint8\n",
      " 61  race_ Asian-Pac-Islander               32561 non-null  uint8\n",
      " 62  race_ Black                            32561 non-null  uint8\n",
      " 63  race_ Other                            32561 non-null  uint8\n",
      " 64  race_ White                            32561 non-null  uint8\n",
      " 65  sex_ Female                            32561 non-null  uint8\n",
      " 66  sex_ Male                              32561 non-null  uint8\n",
      "dtypes: bool(1), int64(6), uint8(60)\n",
      "memory usage: 3.4 MB\n"
     ]
    }
   ],
   "source": [
    "X.info()"
   ]
  },
  {
   "cell_type": "markdown",
   "id": "d2125cce",
   "metadata": {},
   "source": [
    "We have successfully converted categorical to dummy"
   ]
  },
  {
   "cell_type": "code",
   "execution_count": 26,
   "id": "f7d02a73",
   "metadata": {},
   "outputs": [
    {
     "data": {
      "text/plain": [
       "True     29170\n",
       "False     3391\n",
       "Name: country-U.S., dtype: int64"
      ]
     },
     "execution_count": 26,
     "metadata": {},
     "output_type": "execute_result"
    }
   ],
   "source": [
    "X['country-U.S.'].value_counts()"
   ]
  },
  {
   "cell_type": "code",
   "execution_count": 27,
   "id": "0aaed264",
   "metadata": {},
   "outputs": [
    {
     "data": {
      "text/plain": [
       "1    29170\n",
       "0     3391\n",
       "Name: country-U.S., dtype: int64"
      ]
     },
     "execution_count": 27,
     "metadata": {},
     "output_type": "execute_result"
    }
   ],
   "source": [
    "# make 'country-U.S.' into uint8\n",
    "X['country-U.S.'] = X['country-U.S.'].astype('uint8')\n",
    "X['country-U.S.'].value_counts()"
   ]
  },
  {
   "cell_type": "code",
   "execution_count": 28,
   "id": "bb85bee5",
   "metadata": {
    "scrolled": true
   },
   "outputs": [
    {
     "name": "stdout",
     "output_type": "stream",
     "text": [
      "<class 'pandas.core.frame.DataFrame'>\n",
      "RangeIndex: 32561 entries, 0 to 32560\n",
      "Data columns (total 67 columns):\n",
      " #   Column                                 Non-Null Count  Dtype\n",
      "---  ------                                 --------------  -----\n",
      " 0   age                                    32561 non-null  int64\n",
      " 1   fnlwgt                                 32561 non-null  int64\n",
      " 2   education-num                          32561 non-null  int64\n",
      " 3   capital-gain                           32561 non-null  int64\n",
      " 4   capital-loss                           32561 non-null  int64\n",
      " 5   hours-per-week                         32561 non-null  int64\n",
      " 6   country-U.S.                           32561 non-null  uint8\n",
      " 7   workclass_ ?                           32561 non-null  uint8\n",
      " 8   workclass_ Federal-gov                 32561 non-null  uint8\n",
      " 9   workclass_ Local-gov                   32561 non-null  uint8\n",
      " 10  workclass_ Never-worked                32561 non-null  uint8\n",
      " 11  workclass_ Private                     32561 non-null  uint8\n",
      " 12  workclass_ Self-emp-inc                32561 non-null  uint8\n",
      " 13  workclass_ Self-emp-not-inc            32561 non-null  uint8\n",
      " 14  workclass_ State-gov                   32561 non-null  uint8\n",
      " 15  workclass_ Without-pay                 32561 non-null  uint8\n",
      " 16  education_ 10th                        32561 non-null  uint8\n",
      " 17  education_ 11th                        32561 non-null  uint8\n",
      " 18  education_ 12th                        32561 non-null  uint8\n",
      " 19  education_ 1st-4th                     32561 non-null  uint8\n",
      " 20  education_ 5th-6th                     32561 non-null  uint8\n",
      " 21  education_ 7th-8th                     32561 non-null  uint8\n",
      " 22  education_ 9th                         32561 non-null  uint8\n",
      " 23  education_ Assoc-acdm                  32561 non-null  uint8\n",
      " 24  education_ Assoc-voc                   32561 non-null  uint8\n",
      " 25  education_ Bachelors                   32561 non-null  uint8\n",
      " 26  education_ Doctorate                   32561 non-null  uint8\n",
      " 27  education_ HS-grad                     32561 non-null  uint8\n",
      " 28  education_ Masters                     32561 non-null  uint8\n",
      " 29  education_ Preschool                   32561 non-null  uint8\n",
      " 30  education_ Prof-school                 32561 non-null  uint8\n",
      " 31  education_ Some-college                32561 non-null  uint8\n",
      " 32  marital-status_ Divorced               32561 non-null  uint8\n",
      " 33  marital-status_ Married-AF-spouse      32561 non-null  uint8\n",
      " 34  marital-status_ Married-civ-spouse     32561 non-null  uint8\n",
      " 35  marital-status_ Married-spouse-absent  32561 non-null  uint8\n",
      " 36  marital-status_ Never-married          32561 non-null  uint8\n",
      " 37  marital-status_ Separated              32561 non-null  uint8\n",
      " 38  marital-status_ Widowed                32561 non-null  uint8\n",
      " 39  occupation_ ?                          32561 non-null  uint8\n",
      " 40  occupation_ Adm-clerical               32561 non-null  uint8\n",
      " 41  occupation_ Armed-Forces               32561 non-null  uint8\n",
      " 42  occupation_ Craft-repair               32561 non-null  uint8\n",
      " 43  occupation_ Exec-managerial            32561 non-null  uint8\n",
      " 44  occupation_ Farming-fishing            32561 non-null  uint8\n",
      " 45  occupation_ Handlers-cleaners          32561 non-null  uint8\n",
      " 46  occupation_ Machine-op-inspct          32561 non-null  uint8\n",
      " 47  occupation_ Other-service              32561 non-null  uint8\n",
      " 48  occupation_ Priv-house-serv            32561 non-null  uint8\n",
      " 49  occupation_ Prof-specialty             32561 non-null  uint8\n",
      " 50  occupation_ Protective-serv            32561 non-null  uint8\n",
      " 51  occupation_ Sales                      32561 non-null  uint8\n",
      " 52  occupation_ Tech-support               32561 non-null  uint8\n",
      " 53  occupation_ Transport-moving           32561 non-null  uint8\n",
      " 54  relationship_ Husband                  32561 non-null  uint8\n",
      " 55  relationship_ Not-in-family            32561 non-null  uint8\n",
      " 56  relationship_ Other-relative           32561 non-null  uint8\n",
      " 57  relationship_ Own-child                32561 non-null  uint8\n",
      " 58  relationship_ Unmarried                32561 non-null  uint8\n",
      " 59  relationship_ Wife                     32561 non-null  uint8\n",
      " 60  race_ Amer-Indian-Eskimo               32561 non-null  uint8\n",
      " 61  race_ Asian-Pac-Islander               32561 non-null  uint8\n",
      " 62  race_ Black                            32561 non-null  uint8\n",
      " 63  race_ Other                            32561 non-null  uint8\n",
      " 64  race_ White                            32561 non-null  uint8\n",
      " 65  sex_ Female                            32561 non-null  uint8\n",
      " 66  sex_ Male                              32561 non-null  uint8\n",
      "dtypes: int64(6), uint8(61)\n",
      "memory usage: 3.4 MB\n"
     ]
    }
   ],
   "source": [
    "X.info()"
   ]
  },
  {
   "cell_type": "markdown",
   "id": "057b04e0",
   "metadata": {},
   "source": [
    "## Handle Missing Data"
   ]
  },
  {
   "cell_type": "markdown",
   "id": "dc4ed946",
   "metadata": {},
   "source": [
    "imputation is usually better than just dropping"
   ]
  },
  {
   "cell_type": "code",
   "execution_count": 29,
   "id": "bd32ff94",
   "metadata": {},
   "outputs": [
    {
     "data": {
      "text/plain": [
       "age                              0\n",
       "occupation_ Protective-serv      0\n",
       "marital-status_ Never-married    0\n",
       "marital-status_ Separated        0\n",
       "marital-status_ Widowed          0\n",
       "                                ..\n",
       "education_ Masters               0\n",
       "education_ Preschool             0\n",
       "education_ Prof-school           0\n",
       "education_ Some-college          0\n",
       "sex_ Male                        0\n",
       "Length: 67, dtype: int64"
      ]
     },
     "execution_count": 29,
     "metadata": {},
     "output_type": "execute_result"
    }
   ],
   "source": [
    "X.isnull().sum().sort_values(ascending=False).head(67)"
   ]
  },
  {
   "cell_type": "markdown",
   "id": "a51ecedc",
   "metadata": {},
   "source": [
    "No missing data in this version of the dataset:\n",
    "https://archive.ics.uci.edu/ml/datasets/Adult\n"
   ]
  },
  {
   "cell_type": "markdown",
   "id": "829e7f8e",
   "metadata": {},
   "source": [
    "If missing data was present, we could impute using below method:"
   ]
  },
  {
   "cell_type": "code",
   "execution_count": 41,
   "id": "588abbb3",
   "metadata": {},
   "outputs": [],
   "source": [
    "# impute using SimpleImputer from sklearn.preprocessing\n",
    "from sklearn.impute import SimpleImputer\n"
   ]
  },
  {
   "cell_type": "code",
   "execution_count": 37,
   "id": "f7407864",
   "metadata": {},
   "outputs": [
    {
     "name": "stdout",
     "output_type": "stream",
     "text": [
      "/opt/anaconda3/bin/python\r\n"
     ]
    }
   ],
   "source": []
  },
  {
   "cell_type": "markdown",
   "id": "944fec5a",
   "metadata": {},
   "source": [
    "## More Data Exploration"
   ]
  },
  {
   "cell_type": "markdown",
   "id": "8285a7de",
   "metadata": {},
   "source": [
    "### 2 approaches to Outlier Detection"
   ]
  },
  {
   "cell_type": "markdown",
   "id": "272cdc6a",
   "metadata": {},
   "source": [
    "1. Tukey's IQR\n",
    "2. Kernel Density Estimation"
   ]
  },
  {
   "cell_type": "markdown",
   "id": "56aa14db",
   "metadata": {},
   "source": [
    "### Outlier Detection - Tukey IQR\n",
    "- Identifies extreme values in data\n",
    "- Outliers -->  Q1 - 1.5(Q3-Q1) > x > Q3 + 1.5(Q3-Q1)\n",
    "- Standard Deviation\n",
    "    - This is also commonly used, but presents issues:\n",
    "        - Assumes normality\n",
    "        - Sensitive to very extreme values"
   ]
  },
  {
   "cell_type": "code",
   "execution_count": 42,
   "id": "8812c815",
   "metadata": {},
   "outputs": [],
   "source": [
    "def find_outliers_tukey(x):\n",
    "    # finds outliers based on Tukey IQR\n",
    "    q1 = np.percentile(x, 25)\n",
    "    q3 = np.percentile(x, 75)\n",
    "    IQR = q3 - q1\n",
    "    floor = q1 - 1.5*IQR\n",
    "    ceiling = q3 + 1.5*IQR\n",
    "    outlier_indices = list(x.index[(x < floor) | (x > ceiling)])\n",
    "    outlier_values = list(x[outlier_indices])\n",
    "    \n",
    "    return outlier_indices, outlier_values\n",
    "\n",
    "inds, vals = find_outliers_tukey(X['age'])"
   ]
  },
  {
   "cell_type": "code",
   "execution_count": 45,
   "id": "9b3b703f",
   "metadata": {},
   "outputs": [
    {
     "name": "stdout",
     "output_type": "stream",
     "text": [
      "[79 79 79 79 79 79 79 79 79 79 79 79 79 79 79 79 79 79 79 79 79 79 80 80\n",
      " 80 80 80 80 80 80 80 80 80 80 80 80 80 80 80 80 80 80 80 80 81 81 81 81\n",
      " 81 81 81 81 81 81 81 81 81 81 81 81 81 81 81 81 82 82 82 82 82 82 82 82\n",
      " 82 82 82 82 83 83 83 83 83 83 84 84 84 84 84 84 84 84 84 84 85 85 85 86\n",
      " 87 88 88 88 90 90 90 90 90 90 90 90 90 90 90 90 90 90 90 90 90 90 90 90\n",
      " 90 90 90 90 90 90 90 90 90 90 90 90 90 90 90 90 90 90 90 90 90 90 90]\n"
     ]
    }
   ],
   "source": [
    "print(np.sort(vals))"
   ]
  },
  {
   "cell_type": "markdown",
   "id": "36884532",
   "metadata": {},
   "source": [
    "### Outlier detection - Kernel Density Estimation\n",
    "- Non-parametric way to estimate the probability density function of a given feature\n",
    "- can be advantageous compared to extreme value detection (e.g. Tukey IQR)\n",
    "    - Captures outliers in bimodal distributions"
   ]
  },
  {
   "cell_type": "code",
   "execution_count": 47,
   "id": "b37d538e",
   "metadata": {},
   "outputs": [
    {
     "data": {
      "text/plain": [
       "\"\\nfrom sklearn.preprocessing import scale\\nfrom statsmodels.nonparametric.kde import KDEUnivariate\\n\\ndef find_outliers_kde(x):\\n    x_scaled = scale(list(map(float, x)))\\n    kde = KDEUnivariate(x_scaled)\\n    kde.fit(bw='scott', fft=True)\\n    pred = kde.evaluate(x_scaled)\\n    \\n    n = sum(pred < 0.05)\\n    outlier_ind = np.asarray(pred).argsort()[:n]\\n    outlier_value = np.asarray(x)[outlier_ind]\\n    \\n    return outlier_ind, outlier_val\\n\\nkde_indices, kde_values = find_outliers_kde(X['age'])\\nprint(np.sort(kde_values))\\n\""
      ]
     },
     "execution_count": 47,
     "metadata": {},
     "output_type": "execute_result"
    }
   ],
   "source": [
    "# Commenting this whole block out bc not using it now but may be useful to look into\n",
    "# statsmodels library and KDEUnivariate later\n",
    "\n",
    "\"\"\"\n",
    "from sklearn.preprocessing import scale\n",
    "from statsmodels.nonparametric.kde import KDEUnivariate\n",
    "\n",
    "def find_outliers_kde(x):\n",
    "    x_scaled = scale(list(map(float, x)))\n",
    "    kde = KDEUnivariate(x_scaled)\n",
    "    kde.fit(bw='scott', fft=True)\n",
    "    pred = kde.evaluate(x_scaled)\n",
    "    \n",
    "    n = sum(pred < 0.05)\n",
    "    outlier_ind = np.asarray(pred).argsort()[:n]\n",
    "    outlier_value = np.asarray(x)[outlier_ind]\n",
    "    \n",
    "    return outlier_ind, outlier_val\n",
    "\n",
    "kde_indices, kde_values = find_outliers_kde(X['age'])\n",
    "print(np.sort(kde_values))\n",
    "\"\"\""
   ]
  },
  {
   "cell_type": "markdown",
   "id": "ef731d51",
   "metadata": {},
   "source": [
    "## Distribution of Features"
   ]
  },
  {
   "cell_type": "code",
   "execution_count": 48,
   "id": "7258c362",
   "metadata": {},
   "outputs": [],
   "source": [
    "%matplotlib inline\n",
    "import matplotlib.pyplot as plt"
   ]
  },
  {
   "cell_type": "code",
   "execution_count": 52,
   "id": "5cc4d4a8",
   "metadata": {},
   "outputs": [
    {
     "data": {
      "text/plain": [
       "<function matplotlib.pyplot.show(close=None, block=None)>"
      ]
     },
     "execution_count": 52,
     "metadata": {},
     "output_type": "execute_result"
    },
    {
     "data": {
      "image/png": "[encoded data removed]",
      "text/plain": [
       "<Figure size 432x288 with 1 Axes>"
      ]
     },
     "metadata": {
      "needs_background": "light"
     },
     "output_type": "display_data"
    }
   ],
   "source": [
    "# Histogram of age\n",
    "\n",
    "plt.hist(X['age'], color='gray', rwidth=0.8, alpha=0.5)\n",
    "plt.show"
   ]
  },
  {
   "cell_type": "code",
   "execution_count": 59,
   "id": "7ed17ba5",
   "metadata": {},
   "outputs": [
    {
     "data": {
      "image/png": "[encoded data removed]",
      "text/plain": [
       "<Figure size 432x288 with 1 Axes>"
      ]
     },
     "metadata": {
      "needs_background": "light"
     },
     "output_type": "display_data"
    }
   ],
   "source": [
    "# Histogram of age and target\n",
    "plt.hist(list(X['age'][y==0]), color='purple', rwidth=0.8, alpha=0.5, label='Income<50k')\n",
    "plt.hist(list(X['age'][y==1]), color='red', rwidth=0.8, alpha=0.5, label='Income>50K')\n",
    "plt.legend(loc='upper right')\n",
    "plt.show()"
   ]
  },
  {
   "cell_type": "markdown",
   "id": "8bc52d1c",
   "metadata": {},
   "source": [
    "## Feature Engineering"
   ]
  },
  {
   "cell_type": "markdown",
   "id": "a497c7e7",
   "metadata": {},
   "source": [
    "Increase/Decrease Dimensionality:\n",
    "1. Interactions amongst features\n",
    "    - can cause overfitting\n",
    "    - computationally costly"
   ]
  },
  {
   "cell_type": "code",
   "execution_count": 65,
   "id": "a54f06c1",
   "metadata": {},
   "outputs": [],
   "source": [
    "# Use PolynomialFeatures in sklearn.preprocessing to create two-way interactions for all features\n",
    "from itertools import combinations\n",
    "from sklearn.preprocessing import PolynomialFeatures\n",
    "\n",
    "def add_interactions(df):\n",
    "    # Get feature names\n",
    "    combos = list(combinations(list(df.columns), 2))\n",
    "    colnames = list(df.columns) + ['_'.join(x) for x in combos]\n",
    "    \n",
    "    # Find interactions\n",
    "    poly = PolynomialFeatures(interaction_only=True, include_bias=False)\n",
    "    df = poly.fit_transform(df)\n",
    "    df = pd.DataFrame(df)\n",
    "    df.columns = colnames\n",
    "    \n",
    "    # Remove interaction terms with all 0 values\n",
    "    noint_indices = [i for i, x in enumerate(list((df == 0).all())) if x]\n",
    "    df = df.drop(df.columns[noint_indices], axis=1)\n",
    "    \n",
    "    return df"
   ]
  },
  {
   "cell_type": "code",
   "execution_count": 66,
   "id": "512b86c8",
   "metadata": {},
   "outputs": [
    {
     "data": {
      "text/html": [
       "<div>\n",
       "<style scoped>\n",
       "    .dataframe tbody tr th:only-of-type {\n",
       "        vertical-align: middle;\n",
       "    }\n",
       "\n",
       "    .dataframe tbody tr th {\n",
       "        vertical-align: top;\n",
       "    }\n",
       "\n",
       "    .dataframe thead th {\n",
       "        text-align: right;\n",
       "    }\n",
       "</style>\n",
       "<table border=\"1\" class=\"dataframe\">\n",
       "  <thead>\n",
       "    <tr style=\"text-align: right;\">\n",
       "      <th></th>\n",
       "      <th>age</th>\n",
       "      <th>fnlwgt</th>\n",
       "      <th>education-num</th>\n",
       "      <th>capital-gain</th>\n",
       "      <th>capital-loss</th>\n",
       "      <th>hours-per-week</th>\n",
       "      <th>country-U.S.</th>\n",
       "      <th>workclass_ ?</th>\n",
       "      <th>workclass_ Federal-gov</th>\n",
       "      <th>workclass_ Local-gov</th>\n",
       "      <th>...</th>\n",
       "      <th>race_ Amer-Indian-Eskimo_sex_ Female</th>\n",
       "      <th>race_ Amer-Indian-Eskimo_sex_ Male</th>\n",
       "      <th>race_ Asian-Pac-Islander_sex_ Female</th>\n",
       "      <th>race_ Asian-Pac-Islander_sex_ Male</th>\n",
       "      <th>race_ Black_sex_ Female</th>\n",
       "      <th>race_ Black_sex_ Male</th>\n",
       "      <th>race_ Other_sex_ Female</th>\n",
       "      <th>race_ Other_sex_ Male</th>\n",
       "      <th>race_ White_sex_ Female</th>\n",
       "      <th>race_ White_sex_ Male</th>\n",
       "    </tr>\n",
       "  </thead>\n",
       "  <tbody>\n",
       "    <tr>\n",
       "      <th>0</th>\n",
       "      <td>39.0</td>\n",
       "      <td>77516.0</td>\n",
       "      <td>13.0</td>\n",
       "      <td>2174.0</td>\n",
       "      <td>0.0</td>\n",
       "      <td>40.0</td>\n",
       "      <td>1.0</td>\n",
       "      <td>0.0</td>\n",
       "      <td>0.0</td>\n",
       "      <td>0.0</td>\n",
       "      <td>...</td>\n",
       "      <td>0.0</td>\n",
       "      <td>0.0</td>\n",
       "      <td>0.0</td>\n",
       "      <td>0.0</td>\n",
       "      <td>0.0</td>\n",
       "      <td>0.0</td>\n",
       "      <td>0.0</td>\n",
       "      <td>0.0</td>\n",
       "      <td>0.0</td>\n",
       "      <td>1.0</td>\n",
       "    </tr>\n",
       "    <tr>\n",
       "      <th>1</th>\n",
       "      <td>50.0</td>\n",
       "      <td>83311.0</td>\n",
       "      <td>13.0</td>\n",
       "      <td>0.0</td>\n",
       "      <td>0.0</td>\n",
       "      <td>13.0</td>\n",
       "      <td>1.0</td>\n",
       "      <td>0.0</td>\n",
       "      <td>0.0</td>\n",
       "      <td>0.0</td>\n",
       "      <td>...</td>\n",
       "      <td>0.0</td>\n",
       "      <td>0.0</td>\n",
       "      <td>0.0</td>\n",
       "      <td>0.0</td>\n",
       "      <td>0.0</td>\n",
       "      <td>0.0</td>\n",
       "      <td>0.0</td>\n",
       "      <td>0.0</td>\n",
       "      <td>0.0</td>\n",
       "      <td>1.0</td>\n",
       "    </tr>\n",
       "    <tr>\n",
       "      <th>2</th>\n",
       "      <td>38.0</td>\n",
       "      <td>215646.0</td>\n",
       "      <td>9.0</td>\n",
       "      <td>0.0</td>\n",
       "      <td>0.0</td>\n",
       "      <td>40.0</td>\n",
       "      <td>1.0</td>\n",
       "      <td>0.0</td>\n",
       "      <td>0.0</td>\n",
       "      <td>0.0</td>\n",
       "      <td>...</td>\n",
       "      <td>0.0</td>\n",
       "      <td>0.0</td>\n",
       "      <td>0.0</td>\n",
       "      <td>0.0</td>\n",
       "      <td>0.0</td>\n",
       "      <td>0.0</td>\n",
       "      <td>0.0</td>\n",
       "      <td>0.0</td>\n",
       "      <td>0.0</td>\n",
       "      <td>1.0</td>\n",
       "    </tr>\n",
       "    <tr>\n",
       "      <th>3</th>\n",
       "      <td>53.0</td>\n",
       "      <td>234721.0</td>\n",
       "      <td>7.0</td>\n",
       "      <td>0.0</td>\n",
       "      <td>0.0</td>\n",
       "      <td>40.0</td>\n",
       "      <td>1.0</td>\n",
       "      <td>0.0</td>\n",
       "      <td>0.0</td>\n",
       "      <td>0.0</td>\n",
       "      <td>...</td>\n",
       "      <td>0.0</td>\n",
       "      <td>0.0</td>\n",
       "      <td>0.0</td>\n",
       "      <td>0.0</td>\n",
       "      <td>0.0</td>\n",
       "      <td>1.0</td>\n",
       "      <td>0.0</td>\n",
       "      <td>0.0</td>\n",
       "      <td>0.0</td>\n",
       "      <td>0.0</td>\n",
       "    </tr>\n",
       "    <tr>\n",
       "      <th>4</th>\n",
       "      <td>28.0</td>\n",
       "      <td>338409.0</td>\n",
       "      <td>13.0</td>\n",
       "      <td>0.0</td>\n",
       "      <td>0.0</td>\n",
       "      <td>40.0</td>\n",
       "      <td>0.0</td>\n",
       "      <td>0.0</td>\n",
       "      <td>0.0</td>\n",
       "      <td>0.0</td>\n",
       "      <td>...</td>\n",
       "      <td>0.0</td>\n",
       "      <td>0.0</td>\n",
       "      <td>0.0</td>\n",
       "      <td>0.0</td>\n",
       "      <td>1.0</td>\n",
       "      <td>0.0</td>\n",
       "      <td>0.0</td>\n",
       "      <td>0.0</td>\n",
       "      <td>0.0</td>\n",
       "      <td>0.0</td>\n",
       "    </tr>\n",
       "  </tbody>\n",
       "</table>\n",
       "<p>5 rows × 1799 columns</p>\n",
       "</div>"
      ],
      "text/plain": [
       "    age    fnlwgt  education-num  capital-gain  capital-loss  hours-per-week  \\\n",
       "0  39.0   77516.0           13.0        2174.0           0.0            40.0   \n",
       "1  50.0   83311.0           13.0           0.0           0.0            13.0   \n",
       "2  38.0  215646.0            9.0           0.0           0.0            40.0   \n",
       "3  53.0  234721.0            7.0           0.0           0.0            40.0   \n",
       "4  28.0  338409.0           13.0           0.0           0.0            40.0   \n",
       "\n",
       "   country-U.S.  workclass_ ?  workclass_ Federal-gov  workclass_ Local-gov  \\\n",
       "0           1.0           0.0                     0.0                   0.0   \n",
       "1           1.0           0.0                     0.0                   0.0   \n",
       "2           1.0           0.0                     0.0                   0.0   \n",
       "3           1.0           0.0                     0.0                   0.0   \n",
       "4           0.0           0.0                     0.0                   0.0   \n",
       "\n",
       "   ...  race_ Amer-Indian-Eskimo_sex_ Female  \\\n",
       "0  ...                                   0.0   \n",
       "1  ...                                   0.0   \n",
       "2  ...                                   0.0   \n",
       "3  ...                                   0.0   \n",
       "4  ...                                   0.0   \n",
       "\n",
       "   race_ Amer-Indian-Eskimo_sex_ Male  race_ Asian-Pac-Islander_sex_ Female  \\\n",
       "0                                 0.0                                   0.0   \n",
       "1                                 0.0                                   0.0   \n",
       "2                                 0.0                                   0.0   \n",
       "3                                 0.0                                   0.0   \n",
       "4                                 0.0                                   0.0   \n",
       "\n",
       "   race_ Asian-Pac-Islander_sex_ Male  race_ Black_sex_ Female  \\\n",
       "0                                 0.0                      0.0   \n",
       "1                                 0.0                      0.0   \n",
       "2                                 0.0                      0.0   \n",
       "3                                 0.0                      0.0   \n",
       "4                                 0.0                      1.0   \n",
       "\n",
       "   race_ Black_sex_ Male  race_ Other_sex_ Female  race_ Other_sex_ Male  \\\n",
       "0                    0.0                      0.0                    0.0   \n",
       "1                    0.0                      0.0                    0.0   \n",
       "2                    0.0                      0.0                    0.0   \n",
       "3                    1.0                      0.0                    0.0   \n",
       "4                    0.0                      0.0                    0.0   \n",
       "\n",
       "   race_ White_sex_ Female  race_ White_sex_ Male  \n",
       "0                      0.0                    1.0  \n",
       "1                      0.0                    1.0  \n",
       "2                      0.0                    1.0  \n",
       "3                      0.0                    0.0  \n",
       "4                      0.0                    0.0  \n",
       "\n",
       "[5 rows x 1799 columns]"
      ]
     },
     "execution_count": 66,
     "metadata": {},
     "output_type": "execute_result"
    }
   ],
   "source": [
    "X = add_interactions(X)\n",
    "X.head()"
   ]
  },
  {
   "cell_type": "code",
   "execution_count": 72,
   "id": "a6a04388",
   "metadata": {},
   "outputs": [
    {
     "data": {
      "text/plain": [
       "Index(['age', 'fnlwgt', 'education-num', 'capital-gain', 'capital-loss',\n",
       "       'hours-per-week', 'country-U.S.', 'workclass_ ?',\n",
       "       'workclass_ Federal-gov', 'workclass_ Local-gov',\n",
       "       ...\n",
       "       'race_ Amer-Indian-Eskimo_sex_ Female',\n",
       "       'race_ Amer-Indian-Eskimo_sex_ Male',\n",
       "       'race_ Asian-Pac-Islander_sex_ Female',\n",
       "       'race_ Asian-Pac-Islander_sex_ Male', 'race_ Black_sex_ Female',\n",
       "       'race_ Black_sex_ Male', 'race_ Other_sex_ Female',\n",
       "       'race_ Other_sex_ Male', 'race_ White_sex_ Female',\n",
       "       'race_ White_sex_ Male'],\n",
       "      dtype='object', length=1799)"
      ]
     },
     "execution_count": 72,
     "metadata": {},
     "output_type": "execute_result"
    }
   ],
   "source": [
    "X.columns"
   ]
  },
  {
   "cell_type": "markdown",
   "id": "22303ec3",
   "metadata": {},
   "source": [
    "### Dimensionality Reduction using PCA"
   ]
  },
  {
   "cell_type": "markdown",
   "id": "69c89404",
   "metadata": {},
   "source": [
    "Make less features"
   ]
  },
  {
   "cell_type": "markdown",
   "id": "0edb6554",
   "metadata": {},
   "source": [
    "Principal Component Analysis: \n",
    "- uses linear combinations which maximize variants\n",
    "- while ensuring zero correlation with previously calculated principal components\n",
    "    - Cons: Makes the model harder to interpret"
   ]
  },
  {
   "cell_type": "code",
   "execution_count": 75,
   "id": "2f3526d0",
   "metadata": {},
   "outputs": [],
   "source": [
    "# Use PCA from sklearn.decomposition to find principal components\n",
    "from sklearn.decomposition import PCA\n",
    "\n",
    "pca = PCA(n_components=10)\n",
    "X_pca = pd.DataFrame(pca.fit_transform(X))"
   ]
  },
  {
   "cell_type": "code",
   "execution_count": 77,
   "id": "fb2401f6",
   "metadata": {},
   "outputs": [
    {
     "data": {
      "text/html": [
       "<div>\n",
       "<style scoped>\n",
       "    .dataframe tbody tr th:only-of-type {\n",
       "        vertical-align: middle;\n",
       "    }\n",
       "\n",
       "    .dataframe tbody tr th {\n",
       "        vertical-align: top;\n",
       "    }\n",
       "\n",
       "    .dataframe thead th {\n",
       "        text-align: right;\n",
       "    }\n",
       "</style>\n",
       "<table border=\"1\" class=\"dataframe\">\n",
       "  <thead>\n",
       "    <tr style=\"text-align: right;\">\n",
       "      <th></th>\n",
       "      <th>0</th>\n",
       "      <th>1</th>\n",
       "      <th>2</th>\n",
       "      <th>3</th>\n",
       "      <th>4</th>\n",
       "      <th>5</th>\n",
       "      <th>6</th>\n",
       "      <th>7</th>\n",
       "      <th>8</th>\n",
       "      <th>9</th>\n",
       "    </tr>\n",
       "  </thead>\n",
       "  <tbody>\n",
       "    <tr>\n",
       "      <th>0</th>\n",
       "      <td>-3.631343e+07</td>\n",
       "      <td>-1.623399e+07</td>\n",
       "      <td>-6.090975e+06</td>\n",
       "      <td>1.474592e+04</td>\n",
       "      <td>5.895021e+04</td>\n",
       "      <td>-41941.780996</td>\n",
       "      <td>2735.451048</td>\n",
       "      <td>30137.790466</td>\n",
       "      <td>-113280.425405</td>\n",
       "      <td>30198.315743</td>\n",
       "    </tr>\n",
       "    <tr>\n",
       "      <th>1</th>\n",
       "      <td>-2.048334e+08</td>\n",
       "      <td>-1.645420e+07</td>\n",
       "      <td>-6.697960e+06</td>\n",
       "      <td>2.217437e+06</td>\n",
       "      <td>3.098200e+05</td>\n",
       "      <td>32009.014435</td>\n",
       "      <td>-141876.834266</td>\n",
       "      <td>42993.332712</td>\n",
       "      <td>-42979.217010</td>\n",
       "      <td>17713.130168</td>\n",
       "    </tr>\n",
       "    <tr>\n",
       "      <th>2</th>\n",
       "      <td>-2.048297e+08</td>\n",
       "      <td>-1.638053e+07</td>\n",
       "      <td>1.615367e+06</td>\n",
       "      <td>6.845061e+04</td>\n",
       "      <td>-1.620689e+05</td>\n",
       "      <td>16098.505889</td>\n",
       "      <td>98032.642951</td>\n",
       "      <td>-125834.748325</td>\n",
       "      <td>-63924.714605</td>\n",
       "      <td>161234.111622</td>\n",
       "    </tr>\n",
       "    <tr>\n",
       "      <th>3</th>\n",
       "      <td>-2.048282e+08</td>\n",
       "      <td>-1.634992e+07</td>\n",
       "      <td>4.971616e+06</td>\n",
       "      <td>2.694578e+06</td>\n",
       "      <td>-9.007995e+05</td>\n",
       "      <td>13652.132421</td>\n",
       "      <td>-129064.095849</td>\n",
       "      <td>-41858.221229</td>\n",
       "      <td>23693.952902</td>\n",
       "      <td>8310.225382</td>\n",
       "    </tr>\n",
       "    <tr>\n",
       "      <th>4</th>\n",
       "      <td>-2.048275e+08</td>\n",
       "      <td>-1.633769e+07</td>\n",
       "      <td>6.407839e+06</td>\n",
       "      <td>-2.375276e+06</td>\n",
       "      <td>1.515101e+06</td>\n",
       "      <td>-49706.492374</td>\n",
       "      <td>-8642.034298</td>\n",
       "      <td>462789.570941</td>\n",
       "      <td>226118.952117</td>\n",
       "      <td>114645.316661</td>\n",
       "    </tr>\n",
       "  </tbody>\n",
       "</table>\n",
       "</div>"
      ],
      "text/plain": [
       "              0             1             2             3             4  \\\n",
       "0 -3.631343e+07 -1.623399e+07 -6.090975e+06  1.474592e+04  5.895021e+04   \n",
       "1 -2.048334e+08 -1.645420e+07 -6.697960e+06  2.217437e+06  3.098200e+05   \n",
       "2 -2.048297e+08 -1.638053e+07  1.615367e+06  6.845061e+04 -1.620689e+05   \n",
       "3 -2.048282e+08 -1.634992e+07  4.971616e+06  2.694578e+06 -9.007995e+05   \n",
       "4 -2.048275e+08 -1.633769e+07  6.407839e+06 -2.375276e+06  1.515101e+06   \n",
       "\n",
       "              5              6              7              8              9  \n",
       "0 -41941.780996    2735.451048   30137.790466 -113280.425405   30198.315743  \n",
       "1  32009.014435 -141876.834266   42993.332712  -42979.217010   17713.130168  \n",
       "2  16098.505889   98032.642951 -125834.748325  -63924.714605  161234.111622  \n",
       "3  13652.132421 -129064.095849  -41858.221229   23693.952902    8310.225382  \n",
       "4 -49706.492374   -8642.034298  462789.570941  226118.952117  114645.316661  "
      ]
     },
     "execution_count": 77,
     "metadata": {},
     "output_type": "execute_result"
    }
   ],
   "source": [
    "X_pca.head(5)"
   ]
  },
  {
   "cell_type": "markdown",
   "id": "413781cf",
   "metadata": {},
   "source": [
    "## Feature Selection and Model Building"
   ]
  },
  {
   "cell_type": "code",
   "execution_count": 79,
   "id": "2d62e899",
   "metadata": {},
   "outputs": [],
   "source": [
    "# Use train_test_split\n",
    "from sklearn.model_selection import train_test_split\n",
    "\n",
    "X_train, X_test, y_train, y_test = train_test_split(X, y, train_size=0.7, random_state=1)"
   ]
  },
  {
   "cell_type": "code",
   "execution_count": 80,
   "id": "80adebda",
   "metadata": {},
   "outputs": [
    {
     "name": "stdout",
     "output_type": "stream",
     "text": [
      "(32561, 16)\n",
      "(32561, 1799)\n"
     ]
    }
   ],
   "source": [
    "# Too many features in X, from dummies\n",
    "\n",
    "# This can cause overfitting and slow computing\n",
    "print(df.shape)\n",
    "print(X.shape)"
   ]
  },
  {
   "cell_type": "code",
   "execution_count": 81,
   "id": "9e05d4ba",
   "metadata": {},
   "outputs": [
    {
     "name": "stderr",
     "output_type": "stream",
     "text": [
      "/opt/anaconda3/lib/python3.9/site-packages/sklearn/feature_selection/_univariate_selection.py:112: UserWarning: Features [ 542  543  635  638  642  808  839  844  846  853  856  978 1207 1208\n",
      " 1336 1362 1422 1425 1427 1590] are constant.\n",
      "  warnings.warn(\"Features %s are constant.\" % constant_features_idx, UserWarning)\n",
      "/opt/anaconda3/lib/python3.9/site-packages/sklearn/feature_selection/_univariate_selection.py:113: RuntimeWarning: invalid value encountered in true_divide\n",
      "  f = msb / msw\n"
     ]
    }
   ],
   "source": [
    "# Use Feature Selection to select the most important features\n",
    "\n",
    "import sklearn.feature_selection\n",
    "\n",
    "select = sklearn.feature_selection.SelectKBest(k=20)\n",
    "selected_features = select.fit(X_train, y_train)\n",
    "indices_selected = selected_features.get_support(indices=True)\n",
    "colnames_selected = [X.columns[i] for i in indices_selected]\n",
    "\n",
    "X_train_selected = X_train[colnames_selected]\n",
    "X_test_selected = X_test[colnames_selected]"
   ]
  },
  {
   "cell_type": "code",
   "execution_count": 82,
   "id": "efcceda1",
   "metadata": {},
   "outputs": [
    {
     "data": {
      "text/plain": [
       "['education-num',\n",
       " 'marital-status_ Married-civ-spouse',\n",
       " 'relationship_ Husband',\n",
       " 'age_education-num',\n",
       " 'age_marital-status_ Married-civ-spouse',\n",
       " 'age_relationship_ Husband',\n",
       " 'fnlwgt_marital-status_ Married-civ-spouse',\n",
       " 'fnlwgt_relationship_ Husband',\n",
       " 'education-num_hours-per-week',\n",
       " 'education-num_marital-status_ Married-civ-spouse',\n",
       " 'education-num_relationship_ Husband',\n",
       " 'hours-per-week_marital-status_ Married-civ-spouse',\n",
       " 'hours-per-week_relationship_ Husband',\n",
       " 'country-U.S._marital-status_ Married-civ-spouse',\n",
       " 'country-U.S._relationship_ Husband',\n",
       " 'marital-status_ Married-civ-spouse_relationship_ Husband',\n",
       " 'marital-status_ Married-civ-spouse_race_ White',\n",
       " 'marital-status_ Married-civ-spouse_sex_ Male',\n",
       " 'relationship_ Husband_race_ White',\n",
       " 'relationship_ Husband_sex_ Male']"
      ]
     },
     "execution_count": 82,
     "metadata": {},
     "output_type": "execute_result"
    }
   ],
   "source": [
    "colnames_selected"
   ]
  },
  {
   "cell_type": "code",
   "execution_count": 83,
   "id": "c8691a9d",
   "metadata": {},
   "outputs": [],
   "source": [
    "from sklearn.linear_model import LogisticRegression\n",
    "from sklearn.metrics import roc_auc_score\n",
    "\n",
    "def find_model_perf(X_train, y_train, X_test, y_test):\n",
    "    model = LogisticRegression()\n",
    "    model.fit(X_train, y_train)\n",
    "    y_hat = [x[1] for x in model.predict_proba(X_test)]\n",
    "    auc = roc_auc_score(y_test, y_hat)\n",
    "    \n",
    "    return auc"
   ]
  },
  {
   "cell_type": "code",
   "execution_count": 84,
   "id": "a441b444",
   "metadata": {},
   "outputs": [
    {
     "name": "stdout",
     "output_type": "stream",
     "text": [
      "0.6354440727133813\n"
     ]
    }
   ],
   "source": [
    "auc_processed = find_model_perf(X_train_selected, y_train, X_test_selected, y_test)\n",
    "print(auc_processed)"
   ]
  },
  {
   "cell_type": "markdown",
   "id": "69012343",
   "metadata": {},
   "source": [
    "## Now build model using unprocessed data"
   ]
  },
  {
   "cell_type": "code",
   "execution_count": 85,
   "id": "d49ce6d0",
   "metadata": {},
   "outputs": [
    {
     "name": "stdout",
     "output_type": "stream",
     "text": [
      "(32561, 16)\n",
      "(32561, 16)\n"
     ]
    }
   ],
   "source": [
    "# Drop missing values\n",
    "df_unprocessed = df\n",
    "df_unprocessed = df_unprocessed.dropna(axis=0, how='any')\n",
    "print(df.shape)\n",
    "print(df_unprocessed.shape)"
   ]
  },
  {
   "cell_type": "code",
   "execution_count": 86,
   "id": "cfdc5f0b",
   "metadata": {},
   "outputs": [
    {
     "name": "stdout",
     "output_type": "stream",
     "text": [
      "<class 'pandas.core.frame.DataFrame'>\n",
      "RangeIndex: 32561 entries, 0 to 32560\n",
      "Data columns (total 16 columns):\n",
      " #   Column          Non-Null Count  Dtype \n",
      "---  ------          --------------  ----- \n",
      " 0   age             32561 non-null  int64 \n",
      " 1   workclass       32561 non-null  object\n",
      " 2   fnlwgt          32561 non-null  int64 \n",
      " 3   education       32561 non-null  object\n",
      " 4   education-num   32561 non-null  int64 \n",
      " 5   marital-status  32561 non-null  object\n",
      " 6   occupation      32561 non-null  object\n",
      " 7   relationship    32561 non-null  object\n",
      " 8   race            32561 non-null  object\n",
      " 9   sex             32561 non-null  object\n",
      " 10  capital-gain    32561 non-null  int64 \n",
      " 11  capital-loss    32561 non-null  int64 \n",
      " 12  hours-per-week  32561 non-null  int64 \n",
      " 13  native-country  32561 non-null  object\n",
      " 14  income          32561 non-null  object\n",
      " 15  target          32561 non-null  bool  \n",
      "dtypes: bool(1), int64(6), object(9)\n",
      "memory usage: 3.8+ MB\n"
     ]
    }
   ],
   "source": [
    "df_unprocessed.info()"
   ]
  },
  {
   "cell_type": "code",
   "execution_count": 89,
   "id": "6f7d02a6",
   "metadata": {},
   "outputs": [
    {
     "name": "stdout",
     "output_type": "stream",
     "text": [
      "<class 'pandas.core.frame.DataFrame'>\n",
      "RangeIndex: 32561 entries, 0 to 32560\n",
      "Data columns (total 16 columns):\n",
      " #   Column          Non-Null Count  Dtype \n",
      "---  ------          --------------  ----- \n",
      " 0   age             32561 non-null  int64 \n",
      " 1   workclass       32561 non-null  object\n",
      " 2   fnlwgt          32561 non-null  int64 \n",
      " 3   education       32561 non-null  object\n",
      " 4   education-num   32561 non-null  int64 \n",
      " 5   marital-status  32561 non-null  object\n",
      " 6   occupation      32561 non-null  object\n",
      " 7   relationship    32561 non-null  object\n",
      " 8   race            32561 non-null  object\n",
      " 9   sex             32561 non-null  object\n",
      " 10  capital-gain    32561 non-null  int64 \n",
      " 11  capital-loss    32561 non-null  int64 \n",
      " 12  hours-per-week  32561 non-null  int64 \n",
      " 13  native-country  32561 non-null  object\n",
      " 14  income          32561 non-null  object\n",
      " 15  target          32561 non-null  int64 \n",
      "dtypes: int64(7), object(9)\n",
      "memory usage: 4.0+ MB\n"
     ]
    }
   ],
   "source": [
    "df_unprocessed['target'] = [int(i) for i in df_unprocessed['target']]\n",
    "df_unprocessed.info()"
   ]
  },
  {
   "cell_type": "code",
   "execution_count": 92,
   "id": "a5ff9728",
   "metadata": {},
   "outputs": [],
   "source": [
    "# Drop non-numerical data\n",
    "\n",
    "for col in df_unprocessed.columns:\n",
    "    if df_unprocessed[col].dtypes not in ['int64']:\n",
    "        df_unprocessed = df_unprocessed.drop(col, axis=1)\n"
   ]
  },
  {
   "cell_type": "code",
   "execution_count": 98,
   "id": "eb63c84d",
   "metadata": {},
   "outputs": [
    {
     "data": {
      "text/plain": [
       "Index(['age', 'fnlwgt', 'education-num', 'capital-gain', 'capital-loss',\n",
       "       'hours-per-week', 'target'],\n",
       "      dtype='object')"
      ]
     },
     "execution_count": 98,
     "metadata": {},
     "output_type": "execute_result"
    }
   ],
   "source": [
    "df_unprocessed.columns"
   ]
  },
  {
   "cell_type": "code",
   "execution_count": 99,
   "id": "876c36b0",
   "metadata": {},
   "outputs": [],
   "source": [
    "# Split into features and outcomes\n",
    "X_unprocessed = df_unprocessed.drop('target', axis=1)\n",
    "y_unprocessed = df_unprocessed.target"
   ]
  },
  {
   "cell_type": "code",
   "execution_count": 100,
   "id": "23975c2b",
   "metadata": {},
   "outputs": [],
   "source": [
    "X_train_unprocessed, X_test_unprocessed,  y_train, y_test = train_test_split(\n",
    "X_unprocessed, y_unprocessed, train_size=0.7, random_state=1)\n"
   ]
  },
  {
   "cell_type": "code",
   "execution_count": 101,
   "id": "60240f84",
   "metadata": {},
   "outputs": [
    {
     "name": "stdout",
     "output_type": "stream",
     "text": [
      "0.5799720952997741\n"
     ]
    }
   ],
   "source": [
    "auc_unprocessed = find_model_perf(X_train_unprocessed, y_train, X_test_unprocessed, y_test)\n",
    "print(auc_unprocessed)"
   ]
  },
  {
   "cell_type": "code",
   "execution_count": 104,
   "id": "959c2194",
   "metadata": {},
   "outputs": [
    {
     "name": "stdout",
     "output_type": "stream",
     "text": [
      "model improvment of preprocessing:  9.56459420430133\n",
      "unprocessed:  0.5799720952997741\n",
      "processed:  0.6354440727133813\n"
     ]
    }
   ],
   "source": [
    "dif = auc_processed/auc_unprocessed\n",
    "print('model improvment of preprocessing: ', ((dif*100)-100))\n",
    "print('unprocessed: ', auc_unprocessed)\n",
    "print('processed: ', auc_processed)"
   ]
  },
  {
   "cell_type": "code",
   "execution_count": null,
   "id": "6e108f67",
   "metadata": {},
   "outputs": [],
   "source": []
  }
 ],
 "metadata": {
  "kernelspec": {
   "display_name": "Python 3 (ipykernel)",
   "language": "python",
   "name": "python3"
  },
  "language_info": {
   "codemirror_mode": {
    "name": "ipython",
    "version": 3
   },
   "file_extension": ".py",
   "mimetype": "text/x-python",
   "name": "python",
   "nbconvert_exporter": "python",
   "pygments_lexer": "ipython3",
   "version": "3.9.12"
  }
 },
 "nbformat": 4,
 "nbformat_minor": 5
}
