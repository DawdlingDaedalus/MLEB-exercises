{
 "cells": [
  {
   "cell_type": "markdown",
   "id": "3eaadc2a",
   "metadata": {},
   "source": [
    "https://www.youtube.com/watch?v=V0u6bxQOUJ8"
   ]
  },
  {
   "cell_type": "markdown",
   "id": "42599c87",
   "metadata": {},
   "source": [
    "# Predictive Modeling"
   ]
  },
  {
   "cell_type": "markdown",
   "id": "228a7203",
   "metadata": {},
   "source": [
    "Predict whether an individual makes > $50k per year based on census data"
   ]
  },
  {
   "cell_type": "markdown",
   "id": "13da3a91",
   "metadata": {},
   "source": [
    "https://archive.ics.uci.edu/ml/datasets/Adult"
   ]
  },
  {
   "cell_type": "code",
   "execution_count": 1,
   "id": "7dc5bf4f",
   "metadata": {},
   "outputs": [],
   "source": [
    "import pandas as pd\n",
    "import numpy as np\n",
    "import matplotlib.pyplot as plt\n",
    "import seaborn as sns"
   ]
  },
  {
   "cell_type": "code",
   "execution_count": 2,
   "id": "b3679448",
   "metadata": {},
   "outputs": [
    {
     "data": {
      "text/html": [
       "<div>\n",
       "<style scoped>\n",
       "    .dataframe tbody tr th:only-of-type {\n",
       "        vertical-align: middle;\n",
       "    }\n",
       "\n",
       "    .dataframe tbody tr th {\n",
       "        vertical-align: top;\n",
       "    }\n",
       "\n",
       "    .dataframe thead th {\n",
       "        text-align: right;\n",
       "    }\n",
       "</style>\n",
       "<table border=\"1\" class=\"dataframe\">\n",
       "  <thead>\n",
       "    <tr style=\"text-align: right;\">\n",
       "      <th></th>\n",
       "      <th>age</th>\n",
       "      <th>workclass</th>\n",
       "      <th>fnlwgt</th>\n",
       "      <th>education</th>\n",
       "      <th>education-num</th>\n",
       "      <th>marital-status</th>\n",
       "      <th>occupation</th>\n",
       "      <th>relationship</th>\n",
       "      <th>race</th>\n",
       "      <th>sex</th>\n",
       "      <th>capital-gain</th>\n",
       "      <th>capital-loss</th>\n",
       "      <th>hours-per-week</th>\n",
       "      <th>native-country</th>\n",
       "      <th>income</th>\n",
       "    </tr>\n",
       "  </thead>\n",
       "  <tbody>\n",
       "    <tr>\n",
       "      <th>0</th>\n",
       "      <td>39</td>\n",
       "      <td>State-gov</td>\n",
       "      <td>77516</td>\n",
       "      <td>Bachelors</td>\n",
       "      <td>13</td>\n",
       "      <td>Never-married</td>\n",
       "      <td>Adm-clerical</td>\n",
       "      <td>Not-in-family</td>\n",
       "      <td>White</td>\n",
       "      <td>Male</td>\n",
       "      <td>2174</td>\n",
       "      <td>0</td>\n",
       "      <td>40</td>\n",
       "      <td>United-States</td>\n",
       "      <td>&lt;=50K</td>\n",
       "    </tr>\n",
       "    <tr>\n",
       "      <th>1</th>\n",
       "      <td>50</td>\n",
       "      <td>Self-emp-not-inc</td>\n",
       "      <td>83311</td>\n",
       "      <td>Bachelors</td>\n",
       "      <td>13</td>\n",
       "      <td>Married-civ-spouse</td>\n",
       "      <td>Exec-managerial</td>\n",
       "      <td>Husband</td>\n",
       "      <td>White</td>\n",
       "      <td>Male</td>\n",
       "      <td>0</td>\n",
       "      <td>0</td>\n",
       "      <td>13</td>\n",
       "      <td>United-States</td>\n",
       "      <td>&lt;=50K</td>\n",
       "    </tr>\n",
       "    <tr>\n",
       "      <th>2</th>\n",
       "      <td>38</td>\n",
       "      <td>Private</td>\n",
       "      <td>215646</td>\n",
       "      <td>HS-grad</td>\n",
       "      <td>9</td>\n",
       "      <td>Divorced</td>\n",
       "      <td>Handlers-cleaners</td>\n",
       "      <td>Not-in-family</td>\n",
       "      <td>White</td>\n",
       "      <td>Male</td>\n",
       "      <td>0</td>\n",
       "      <td>0</td>\n",
       "      <td>40</td>\n",
       "      <td>United-States</td>\n",
       "      <td>&lt;=50K</td>\n",
       "    </tr>\n",
       "    <tr>\n",
       "      <th>3</th>\n",
       "      <td>53</td>\n",
       "      <td>Private</td>\n",
       "      <td>234721</td>\n",
       "      <td>11th</td>\n",
       "      <td>7</td>\n",
       "      <td>Married-civ-spouse</td>\n",
       "      <td>Handlers-cleaners</td>\n",
       "      <td>Husband</td>\n",
       "      <td>Black</td>\n",
       "      <td>Male</td>\n",
       "      <td>0</td>\n",
       "      <td>0</td>\n",
       "      <td>40</td>\n",
       "      <td>United-States</td>\n",
       "      <td>&lt;=50K</td>\n",
       "    </tr>\n",
       "    <tr>\n",
       "      <th>4</th>\n",
       "      <td>28</td>\n",
       "      <td>Private</td>\n",
       "      <td>338409</td>\n",
       "      <td>Bachelors</td>\n",
       "      <td>13</td>\n",
       "      <td>Married-civ-spouse</td>\n",
       "      <td>Prof-specialty</td>\n",
       "      <td>Wife</td>\n",
       "      <td>Black</td>\n",
       "      <td>Female</td>\n",
       "      <td>0</td>\n",
       "      <td>0</td>\n",
       "      <td>40</td>\n",
       "      <td>Cuba</td>\n",
       "      <td>&lt;=50K</td>\n",
       "    </tr>\n",
       "  </tbody>\n",
       "</table>\n",
       "</div>"
      ],
      "text/plain": [
       "   age          workclass  fnlwgt   education  education-num  \\\n",
       "0   39          State-gov   77516   Bachelors             13   \n",
       "1   50   Self-emp-not-inc   83311   Bachelors             13   \n",
       "2   38            Private  215646     HS-grad              9   \n",
       "3   53            Private  234721        11th              7   \n",
       "4   28            Private  338409   Bachelors             13   \n",
       "\n",
       "        marital-status          occupation    relationship    race      sex  \\\n",
       "0        Never-married        Adm-clerical   Not-in-family   White     Male   \n",
       "1   Married-civ-spouse     Exec-managerial         Husband   White     Male   \n",
       "2             Divorced   Handlers-cleaners   Not-in-family   White     Male   \n",
       "3   Married-civ-spouse   Handlers-cleaners         Husband   Black     Male   \n",
       "4   Married-civ-spouse      Prof-specialty            Wife   Black   Female   \n",
       "\n",
       "   capital-gain  capital-loss  hours-per-week  native-country  income  \n",
       "0          2174             0              40   United-States   <=50K  \n",
       "1             0             0              13   United-States   <=50K  \n",
       "2             0             0              40   United-States   <=50K  \n",
       "3             0             0              40   United-States   <=50K  \n",
       "4             0             0              40            Cuba   <=50K  "
      ]
     },
     "execution_count": 2,
     "metadata": {},
     "output_type": "execute_result"
    }
   ],
   "source": [
    "# data\n",
    "\n",
    "colnames = 'age workclass fnlwgt education education-num marital-status occupation relationship race sex capital-gain capital-loss hours-per-week native-country income'.split()\n",
    "\n",
    "df = pd.read_csv('adult.data.csv', names = colnames, header=None)\n",
    "df.head()"
   ]
  },
  {
   "cell_type": "code",
   "execution_count": 3,
   "id": "b0cbe93d",
   "metadata": {},
   "outputs": [],
   "source": [
    "# remove whitespace from df['income']\n",
    "\n",
    "def rm_space(data):\n",
    "    data = data.strip()\n",
    "    return data\n",
    "\n",
    "df['income'] = df.income.map(rm_space)"
   ]
  },
  {
   "cell_type": "code",
   "execution_count": 4,
   "id": "a9d74020",
   "metadata": {},
   "outputs": [
    {
     "name": "stdout",
     "output_type": "stream",
     "text": [
      "<=50K    24720\n",
      ">50K      7841\n",
      "Name: income, dtype: int64\n",
      ">50K\n"
     ]
    }
   ],
   "source": [
    "print(df['income'].value_counts())\n",
    "\n",
    "# I had trouble getting the accurate str value due to Capital letters and Whitespace.\n",
    "# Here is a method for directly pulling the str value\n",
    "print(df['income'].value_counts().index[1])"
   ]
  },
  {
   "cell_type": "code",
   "execution_count": 5,
   "id": "e7da3df1",
   "metadata": {},
   "outputs": [],
   "source": [
    "# Create boolean target column\n",
    "df['target'] = (df['income'] == '>50K')\n",
    "\n",
    "# can also be done with list comprehension:s\n",
    "# df['target'] = [0 if x == '<=50K' else 1 for x in df['income']]"
   ]
  },
  {
   "cell_type": "code",
   "execution_count": 6,
   "id": "e54368ec",
   "metadata": {},
   "outputs": [
    {
     "data": {
      "text/plain": [
       "False    24720\n",
       "True      7841\n",
       "Name: target, dtype: int64"
      ]
     },
     "execution_count": 6,
     "metadata": {},
     "output_type": "execute_result"
    }
   ],
   "source": [
    "df['target'].value_counts()"
   ]
  },
  {
   "cell_type": "code",
   "execution_count": 7,
   "id": "443dafb4",
   "metadata": {},
   "outputs": [
    {
     "data": {
      "text/html": [
       "<div>\n",
       "<style scoped>\n",
       "    .dataframe tbody tr th:only-of-type {\n",
       "        vertical-align: middle;\n",
       "    }\n",
       "\n",
       "    .dataframe tbody tr th {\n",
       "        vertical-align: top;\n",
       "    }\n",
       "\n",
       "    .dataframe thead th {\n",
       "        text-align: right;\n",
       "    }\n",
       "</style>\n",
       "<table border=\"1\" class=\"dataframe\">\n",
       "  <thead>\n",
       "    <tr style=\"text-align: right;\">\n",
       "      <th></th>\n",
       "      <th>age</th>\n",
       "      <th>workclass</th>\n",
       "      <th>fnlwgt</th>\n",
       "      <th>education</th>\n",
       "      <th>education-num</th>\n",
       "      <th>marital-status</th>\n",
       "      <th>occupation</th>\n",
       "      <th>relationship</th>\n",
       "      <th>race</th>\n",
       "      <th>sex</th>\n",
       "      <th>capital-gain</th>\n",
       "      <th>capital-loss</th>\n",
       "      <th>hours-per-week</th>\n",
       "      <th>native-country</th>\n",
       "      <th>income</th>\n",
       "      <th>target</th>\n",
       "    </tr>\n",
       "  </thead>\n",
       "  <tbody>\n",
       "    <tr>\n",
       "      <th>0</th>\n",
       "      <td>39</td>\n",
       "      <td>State-gov</td>\n",
       "      <td>77516</td>\n",
       "      <td>Bachelors</td>\n",
       "      <td>13</td>\n",
       "      <td>Never-married</td>\n",
       "      <td>Adm-clerical</td>\n",
       "      <td>Not-in-family</td>\n",
       "      <td>White</td>\n",
       "      <td>Male</td>\n",
       "      <td>2174</td>\n",
       "      <td>0</td>\n",
       "      <td>40</td>\n",
       "      <td>United-States</td>\n",
       "      <td>&lt;=50K</td>\n",
       "      <td>False</td>\n",
       "    </tr>\n",
       "    <tr>\n",
       "      <th>1</th>\n",
       "      <td>50</td>\n",
       "      <td>Self-emp-not-inc</td>\n",
       "      <td>83311</td>\n",
       "      <td>Bachelors</td>\n",
       "      <td>13</td>\n",
       "      <td>Married-civ-spouse</td>\n",
       "      <td>Exec-managerial</td>\n",
       "      <td>Husband</td>\n",
       "      <td>White</td>\n",
       "      <td>Male</td>\n",
       "      <td>0</td>\n",
       "      <td>0</td>\n",
       "      <td>13</td>\n",
       "      <td>United-States</td>\n",
       "      <td>&lt;=50K</td>\n",
       "      <td>False</td>\n",
       "    </tr>\n",
       "    <tr>\n",
       "      <th>2</th>\n",
       "      <td>38</td>\n",
       "      <td>Private</td>\n",
       "      <td>215646</td>\n",
       "      <td>HS-grad</td>\n",
       "      <td>9</td>\n",
       "      <td>Divorced</td>\n",
       "      <td>Handlers-cleaners</td>\n",
       "      <td>Not-in-family</td>\n",
       "      <td>White</td>\n",
       "      <td>Male</td>\n",
       "      <td>0</td>\n",
       "      <td>0</td>\n",
       "      <td>40</td>\n",
       "      <td>United-States</td>\n",
       "      <td>&lt;=50K</td>\n",
       "      <td>False</td>\n",
       "    </tr>\n",
       "    <tr>\n",
       "      <th>3</th>\n",
       "      <td>53</td>\n",
       "      <td>Private</td>\n",
       "      <td>234721</td>\n",
       "      <td>11th</td>\n",
       "      <td>7</td>\n",
       "      <td>Married-civ-spouse</td>\n",
       "      <td>Handlers-cleaners</td>\n",
       "      <td>Husband</td>\n",
       "      <td>Black</td>\n",
       "      <td>Male</td>\n",
       "      <td>0</td>\n",
       "      <td>0</td>\n",
       "      <td>40</td>\n",
       "      <td>United-States</td>\n",
       "      <td>&lt;=50K</td>\n",
       "      <td>False</td>\n",
       "    </tr>\n",
       "    <tr>\n",
       "      <th>4</th>\n",
       "      <td>28</td>\n",
       "      <td>Private</td>\n",
       "      <td>338409</td>\n",
       "      <td>Bachelors</td>\n",
       "      <td>13</td>\n",
       "      <td>Married-civ-spouse</td>\n",
       "      <td>Prof-specialty</td>\n",
       "      <td>Wife</td>\n",
       "      <td>Black</td>\n",
       "      <td>Female</td>\n",
       "      <td>0</td>\n",
       "      <td>0</td>\n",
       "      <td>40</td>\n",
       "      <td>Cuba</td>\n",
       "      <td>&lt;=50K</td>\n",
       "      <td>False</td>\n",
       "    </tr>\n",
       "  </tbody>\n",
       "</table>\n",
       "</div>"
      ],
      "text/plain": [
       "   age          workclass  fnlwgt   education  education-num  \\\n",
       "0   39          State-gov   77516   Bachelors             13   \n",
       "1   50   Self-emp-not-inc   83311   Bachelors             13   \n",
       "2   38            Private  215646     HS-grad              9   \n",
       "3   53            Private  234721        11th              7   \n",
       "4   28            Private  338409   Bachelors             13   \n",
       "\n",
       "        marital-status          occupation    relationship    race      sex  \\\n",
       "0        Never-married        Adm-clerical   Not-in-family   White     Male   \n",
       "1   Married-civ-spouse     Exec-managerial         Husband   White     Male   \n",
       "2             Divorced   Handlers-cleaners   Not-in-family   White     Male   \n",
       "3   Married-civ-spouse   Handlers-cleaners         Husband   Black     Male   \n",
       "4   Married-civ-spouse      Prof-specialty            Wife   Black   Female   \n",
       "\n",
       "   capital-gain  capital-loss  hours-per-week  native-country income  target  \n",
       "0          2174             0              40   United-States  <=50K   False  \n",
       "1             0             0              13   United-States  <=50K   False  \n",
       "2             0             0              40   United-States  <=50K   False  \n",
       "3             0             0              40   United-States  <=50K   False  \n",
       "4             0             0              40            Cuba  <=50K   False  "
      ]
     },
     "execution_count": 7,
     "metadata": {},
     "output_type": "execute_result"
    }
   ],
   "source": [
    "df.head()"
   ]
  },
  {
   "cell_type": "code",
   "execution_count": 8,
   "id": "ef2cd708",
   "metadata": {},
   "outputs": [],
   "source": [
    "# Assign a Dataframe of Features, X, and a Series of the outcome variable, y\n",
    "X = df.drop(['income', 'target'], axis=1)\n",
    "y = df.target"
   ]
  },
  {
   "cell_type": "code",
   "execution_count": 9,
   "id": "ee082221",
   "metadata": {},
   "outputs": [
    {
     "name": "stdout",
     "output_type": "stream",
     "text": [
      "<class 'pandas.core.frame.DataFrame'>\n",
      "RangeIndex: 32561 entries, 0 to 32560\n",
      "Data columns (total 14 columns):\n",
      " #   Column          Non-Null Count  Dtype \n",
      "---  ------          --------------  ----- \n",
      " 0   age             32561 non-null  int64 \n",
      " 1   workclass       32561 non-null  object\n",
      " 2   fnlwgt          32561 non-null  int64 \n",
      " 3   education       32561 non-null  object\n",
      " 4   education-num   32561 non-null  int64 \n",
      " 5   marital-status  32561 non-null  object\n",
      " 6   occupation      32561 non-null  object\n",
      " 7   relationship    32561 non-null  object\n",
      " 8   race            32561 non-null  object\n",
      " 9   sex             32561 non-null  object\n",
      " 10  capital-gain    32561 non-null  int64 \n",
      " 11  capital-loss    32561 non-null  int64 \n",
      " 12  hours-per-week  32561 non-null  int64 \n",
      " 13  native-country  32561 non-null  object\n",
      "dtypes: int64(6), object(8)\n",
      "memory usage: 3.5+ MB\n"
     ]
    }
   ],
   "source": [
    "X.info()"
   ]
  },
  {
   "cell_type": "code",
   "execution_count": 10,
   "id": "bc205bf3",
   "metadata": {},
   "outputs": [
    {
     "data": {
      "text/plain": [
       "0    False\n",
       "1    False\n",
       "2    False\n",
       "3    False\n",
       "4    False\n",
       "Name: target, dtype: bool"
      ]
     },
     "execution_count": 10,
     "metadata": {},
     "output_type": "execute_result"
    }
   ],
   "source": [
    "y.head()"
   ]
  },
  {
   "cell_type": "code",
   "execution_count": 11,
   "id": "54000ceb",
   "metadata": {},
   "outputs": [
    {
     "data": {
      "text/plain": [
       "False    24720\n",
       "True      7841\n",
       "Name: target, dtype: int64"
      ]
     },
     "execution_count": 11,
     "metadata": {},
     "output_type": "execute_result"
    }
   ],
   "source": [
    "y.value_counts()"
   ]
  },
  {
   "cell_type": "markdown",
   "id": "58cb3b5d",
   "metadata": {},
   "source": [
    "## Basic Data Cleaning\n",
    "\n",
    "### Dealing with Data Types"
   ]
  },
  {
   "cell_type": "markdown",
   "id": "e25177a1",
   "metadata": {},
   "source": [
    "1. Numeric (income, age)\n",
    "2. Categorical (gender, nationality)\n",
    "3. Ordinal (low/med/high)"
   ]
  },
  {
   "cell_type": "markdown",
   "id": "929ae5e0",
   "metadata": {},
   "source": [
    "Computers can only handle numeric features"
   ]
  },
  {
   "cell_type": "markdown",
   "id": "83c9beaf",
   "metadata": {},
   "source": [
    "Must Convert\n",
    "- Create Dummy Variables\n",
    "- Categorical, Ordinal Feature --> Many dummy column Features"
   ]
  },
  {
   "cell_type": "code",
   "execution_count": 12,
   "id": "5c7c4c79",
   "metadata": {},
   "outputs": [
    {
     "data": {
      "text/plain": [
       " HS-grad         10501\n",
       " Some-college     7291\n",
       " Bachelors        5355\n",
       " Masters          1723\n",
       " Assoc-voc        1382\n",
       " 11th             1175\n",
       " Assoc-acdm       1067\n",
       " 10th              933\n",
       " 7th-8th           646\n",
       " Prof-school       576\n",
       " 9th               514\n",
       " 12th              433\n",
       " Doctorate         413\n",
       " 5th-6th           333\n",
       " 1st-4th           168\n",
       " Preschool          51\n",
       "Name: education, dtype: int64"
      ]
     },
     "execution_count": 12,
     "metadata": {},
     "output_type": "execute_result"
    }
   ],
   "source": [
    "# See Categorical variable: Education\n",
    "X['education'].value_counts()"
   ]
  },
  {
   "cell_type": "code",
   "execution_count": 13,
   "id": "c491074d",
   "metadata": {},
   "outputs": [
    {
     "name": "stdout",
     "output_type": "stream",
     "text": [
      "    11th   Bachelors   HS-grad\n",
      "0      0           1         0\n",
      "1      0           1         0\n",
      "2      0           0         1\n",
      "3      1           0         0\n",
      "4      0           1         0\n"
     ]
    }
   ],
   "source": [
    "# explore pandas get_dummies\n",
    "print(pd.get_dummies(X['education'].head(5)))"
   ]
  },
  {
   "cell_type": "code",
   "execution_count": 14,
   "id": "285f0bb0",
   "metadata": {},
   "outputs": [
    {
     "name": "stdout",
     "output_type": "stream",
     "text": [
      "Column -- workclass -- has  9  unique categories\n",
      "Column -- education -- has  16  unique categories\n",
      "Column -- marital-status -- has  7  unique categories\n",
      "Column -- occupation -- has  15  unique categories\n",
      "Column -- relationship -- has  6  unique categories\n",
      "Column -- race -- has  5  unique categories\n",
      "Column -- sex -- has  2  unique categories\n",
      "Column -- native-country -- has  42  unique categories\n"
     ]
    }
   ],
   "source": [
    "# Decide which categorical variables you want to use in the model\n",
    "def unique_categories(DataFrame):\n",
    "    for DataFrame_col in DataFrame.columns:\n",
    "        if DataFrame[DataFrame_col].dtype == 'object':\n",
    "            unique_cat = len(DataFrame[DataFrame_col].unique())\n",
    "            print(\"Column --\", DataFrame_col, \"-- has \", unique_cat, \" unique categories\")\n",
    "unique_categories(X)"
   ]
  },
  {
   "cell_type": "markdown",
   "id": "954cf440",
   "metadata": {},
   "source": [
    "### Handle 'native-country'"
   ]
  },
  {
   "cell_type": "code",
   "execution_count": 15,
   "id": "b81d6eff",
   "metadata": {
    "scrolled": true
   },
   "outputs": [
    {
     "data": {
      "text/plain": [
       " United-States                 29170\n",
       " Mexico                          643\n",
       " ?                               583\n",
       " Philippines                     198\n",
       " Germany                         137\n",
       " Canada                          121\n",
       " Puerto-Rico                     114\n",
       " El-Salvador                     106\n",
       " India                           100\n",
       " Cuba                             95\n",
       " England                          90\n",
       " Jamaica                          81\n",
       " South                            80\n",
       " China                            75\n",
       " Italy                            73\n",
       " Dominican-Republic               70\n",
       " Vietnam                          67\n",
       " Guatemala                        64\n",
       " Japan                            62\n",
       " Poland                           60\n",
       " Columbia                         59\n",
       " Taiwan                           51\n",
       " Haiti                            44\n",
       " Iran                             43\n",
       " Portugal                         37\n",
       " Nicaragua                        34\n",
       " Peru                             31\n",
       " France                           29\n",
       " Greece                           29\n",
       " Ecuador                          28\n",
       " Ireland                          24\n",
       " Hong                             20\n",
       " Cambodia                         19\n",
       " Trinadad&Tobago                  19\n",
       " Laos                             18\n",
       " Thailand                         18\n",
       " Yugoslavia                       16\n",
       " Outlying-US(Guam-USVI-etc)       14\n",
       " Honduras                         13\n",
       " Hungary                          13\n",
       " Scotland                         12\n",
       " Holand-Netherlands                1\n",
       "Name: native-country, dtype: int64"
      ]
     },
     "execution_count": 15,
     "metadata": {},
     "output_type": "execute_result"
    }
   ],
   "source": [
    "# native-country has many categories, but most are 'U.S.'\n",
    "# we can make just two bins. 'U.S.' and 'other'. One column is needed for this.\n",
    "X['native-country'].value_counts()"
   ]
  },
  {
   "cell_type": "code",
   "execution_count": 16,
   "id": "b874a7ef",
   "metadata": {},
   "outputs": [
    {
     "data": {
      "text/plain": [
       "' United-States'"
      ]
     },
     "execution_count": 16,
     "metadata": {},
     "output_type": "execute_result"
    }
   ],
   "source": [
    "X['native-country'].value_counts().index[0]"
   ]
  },
  {
   "cell_type": "code",
   "execution_count": 17,
   "id": "b00a0621",
   "metadata": {},
   "outputs": [],
   "source": [
    "X['country-U.S.'] = (X['native-country'] == X['native-country'].value_counts().index[0])"
   ]
  },
  {
   "cell_type": "code",
   "execution_count": 18,
   "id": "bcd0376a",
   "metadata": {},
   "outputs": [
    {
     "data": {
      "text/plain": [
       "True     29170\n",
       "False     3391\n",
       "Name: country-U.S., dtype: int64"
      ]
     },
     "execution_count": 18,
     "metadata": {},
     "output_type": "execute_result"
    }
   ],
   "source": [
    "X['country-U.S.'].value_counts()"
   ]
  },
  {
   "cell_type": "code",
   "execution_count": 19,
   "id": "c4c3043a",
   "metadata": {},
   "outputs": [
    {
     "data": {
      "text/html": [
       "<div>\n",
       "<style scoped>\n",
       "    .dataframe tbody tr th:only-of-type {\n",
       "        vertical-align: middle;\n",
       "    }\n",
       "\n",
       "    .dataframe tbody tr th {\n",
       "        vertical-align: top;\n",
       "    }\n",
       "\n",
       "    .dataframe thead th {\n",
       "        text-align: right;\n",
       "    }\n",
       "</style>\n",
       "<table border=\"1\" class=\"dataframe\">\n",
       "  <thead>\n",
       "    <tr style=\"text-align: right;\">\n",
       "      <th></th>\n",
       "      <th>age</th>\n",
       "      <th>workclass</th>\n",
       "      <th>fnlwgt</th>\n",
       "      <th>education</th>\n",
       "      <th>education-num</th>\n",
       "      <th>marital-status</th>\n",
       "      <th>occupation</th>\n",
       "      <th>relationship</th>\n",
       "      <th>race</th>\n",
       "      <th>sex</th>\n",
       "      <th>capital-gain</th>\n",
       "      <th>capital-loss</th>\n",
       "      <th>hours-per-week</th>\n",
       "      <th>native-country</th>\n",
       "      <th>country-U.S.</th>\n",
       "    </tr>\n",
       "  </thead>\n",
       "  <tbody>\n",
       "    <tr>\n",
       "      <th>0</th>\n",
       "      <td>39</td>\n",
       "      <td>State-gov</td>\n",
       "      <td>77516</td>\n",
       "      <td>Bachelors</td>\n",
       "      <td>13</td>\n",
       "      <td>Never-married</td>\n",
       "      <td>Adm-clerical</td>\n",
       "      <td>Not-in-family</td>\n",
       "      <td>White</td>\n",
       "      <td>Male</td>\n",
       "      <td>2174</td>\n",
       "      <td>0</td>\n",
       "      <td>40</td>\n",
       "      <td>United-States</td>\n",
       "      <td>True</td>\n",
       "    </tr>\n",
       "  </tbody>\n",
       "</table>\n",
       "</div>"
      ],
      "text/plain": [
       "   age   workclass  fnlwgt   education  education-num  marital-status  \\\n",
       "0   39   State-gov   77516   Bachelors             13   Never-married   \n",
       "\n",
       "      occupation    relationship    race    sex  capital-gain  capital-loss  \\\n",
       "0   Adm-clerical   Not-in-family   White   Male          2174             0   \n",
       "\n",
       "   hours-per-week  native-country  country-U.S.  \n",
       "0              40   United-States          True  "
      ]
     },
     "execution_count": 19,
     "metadata": {},
     "output_type": "execute_result"
    }
   ],
   "source": [
    "X.head(1)"
   ]
  },
  {
   "cell_type": "code",
   "execution_count": 20,
   "id": "5cbc302c",
   "metadata": {},
   "outputs": [
    {
     "data": {
      "text/html": [
       "<div>\n",
       "<style scoped>\n",
       "    .dataframe tbody tr th:only-of-type {\n",
       "        vertical-align: middle;\n",
       "    }\n",
       "\n",
       "    .dataframe tbody tr th {\n",
       "        vertical-align: top;\n",
       "    }\n",
       "\n",
       "    .dataframe thead th {\n",
       "        text-align: right;\n",
       "    }\n",
       "</style>\n",
       "<table border=\"1\" class=\"dataframe\">\n",
       "  <thead>\n",
       "    <tr style=\"text-align: right;\">\n",
       "      <th></th>\n",
       "      <th>age</th>\n",
       "      <th>workclass</th>\n",
       "      <th>fnlwgt</th>\n",
       "      <th>education</th>\n",
       "      <th>education-num</th>\n",
       "      <th>marital-status</th>\n",
       "      <th>occupation</th>\n",
       "      <th>relationship</th>\n",
       "      <th>race</th>\n",
       "      <th>sex</th>\n",
       "      <th>capital-gain</th>\n",
       "      <th>capital-loss</th>\n",
       "      <th>hours-per-week</th>\n",
       "      <th>country-U.S.</th>\n",
       "    </tr>\n",
       "  </thead>\n",
       "  <tbody>\n",
       "    <tr>\n",
       "      <th>0</th>\n",
       "      <td>39</td>\n",
       "      <td>State-gov</td>\n",
       "      <td>77516</td>\n",
       "      <td>Bachelors</td>\n",
       "      <td>13</td>\n",
       "      <td>Never-married</td>\n",
       "      <td>Adm-clerical</td>\n",
       "      <td>Not-in-family</td>\n",
       "      <td>White</td>\n",
       "      <td>Male</td>\n",
       "      <td>2174</td>\n",
       "      <td>0</td>\n",
       "      <td>40</td>\n",
       "      <td>True</td>\n",
       "    </tr>\n",
       "  </tbody>\n",
       "</table>\n",
       "</div>"
      ],
      "text/plain": [
       "   age   workclass  fnlwgt   education  education-num  marital-status  \\\n",
       "0   39   State-gov   77516   Bachelors             13   Never-married   \n",
       "\n",
       "      occupation    relationship    race    sex  capital-gain  capital-loss  \\\n",
       "0   Adm-clerical   Not-in-family   White   Male          2174             0   \n",
       "\n",
       "   hours-per-week  country-U.S.  \n",
       "0              40          True  "
      ]
     },
     "execution_count": 20,
     "metadata": {},
     "output_type": "execute_result"
    }
   ],
   "source": [
    "X = X.drop('native-country', axis=1)\n",
    "X.head(1)"
   ]
  },
  {
   "cell_type": "markdown",
   "id": "87991233",
   "metadata": {},
   "source": [
    "## Handling Categorical to dummy"
   ]
  },
  {
   "cell_type": "code",
   "execution_count": 21,
   "id": "20276818",
   "metadata": {},
   "outputs": [
    {
     "data": {
      "text/plain": [
       "['workclass',\n",
       " 'education',\n",
       " 'marital-status',\n",
       " 'occupation',\n",
       " 'relationship',\n",
       " 'race',\n",
       " 'sex']"
      ]
     },
     "execution_count": 21,
     "metadata": {},
     "output_type": "execute_result"
    }
   ],
   "source": [
    "# Create a list of features to dummy\n",
    "def column_objects(df):\n",
    "    # return a list of columns with dtype object\n",
    "    object_cols = []\n",
    "    for col in df.columns:\n",
    "        if df[col].dtype == 'object':\n",
    "            object_cols.append(col)\n",
    "    return object_cols\n",
    "\n",
    "todummy_list = column_objects(X)\n",
    "todummy_list"
   ]
  },
  {
   "cell_type": "code",
   "execution_count": 22,
   "id": "49eb0d7f",
   "metadata": {},
   "outputs": [
    {
     "data": {
      "text/plain": [
       "list"
      ]
     },
     "execution_count": 22,
     "metadata": {},
     "output_type": "execute_result"
    }
   ],
   "source": [
    "type(todummy_list)"
   ]
  },
  {
   "cell_type": "code",
   "execution_count": 23,
   "id": "ff740388",
   "metadata": {},
   "outputs": [
    {
     "data": {
      "text/html": [
       "<div>\n",
       "<style scoped>\n",
       "    .dataframe tbody tr th:only-of-type {\n",
       "        vertical-align: middle;\n",
       "    }\n",
       "\n",
       "    .dataframe tbody tr th {\n",
       "        vertical-align: top;\n",
       "    }\n",
       "\n",
       "    .dataframe thead th {\n",
       "        text-align: right;\n",
       "    }\n",
       "</style>\n",
       "<table border=\"1\" class=\"dataframe\">\n",
       "  <thead>\n",
       "    <tr style=\"text-align: right;\">\n",
       "      <th></th>\n",
       "      <th>age</th>\n",
       "      <th>workclass</th>\n",
       "      <th>fnlwgt</th>\n",
       "      <th>education</th>\n",
       "      <th>education-num</th>\n",
       "      <th>marital-status</th>\n",
       "      <th>occupation</th>\n",
       "      <th>relationship</th>\n",
       "      <th>race</th>\n",
       "      <th>sex</th>\n",
       "      <th>capital-gain</th>\n",
       "      <th>capital-loss</th>\n",
       "      <th>hours-per-week</th>\n",
       "      <th>country-U.S.</th>\n",
       "    </tr>\n",
       "  </thead>\n",
       "  <tbody>\n",
       "    <tr>\n",
       "      <th>0</th>\n",
       "      <td>39</td>\n",
       "      <td>State-gov</td>\n",
       "      <td>77516</td>\n",
       "      <td>Bachelors</td>\n",
       "      <td>13</td>\n",
       "      <td>Never-married</td>\n",
       "      <td>Adm-clerical</td>\n",
       "      <td>Not-in-family</td>\n",
       "      <td>White</td>\n",
       "      <td>Male</td>\n",
       "      <td>2174</td>\n",
       "      <td>0</td>\n",
       "      <td>40</td>\n",
       "      <td>True</td>\n",
       "    </tr>\n",
       "    <tr>\n",
       "      <th>1</th>\n",
       "      <td>50</td>\n",
       "      <td>Self-emp-not-inc</td>\n",
       "      <td>83311</td>\n",
       "      <td>Bachelors</td>\n",
       "      <td>13</td>\n",
       "      <td>Married-civ-spouse</td>\n",
       "      <td>Exec-managerial</td>\n",
       "      <td>Husband</td>\n",
       "      <td>White</td>\n",
       "      <td>Male</td>\n",
       "      <td>0</td>\n",
       "      <td>0</td>\n",
       "      <td>13</td>\n",
       "      <td>True</td>\n",
       "    </tr>\n",
       "    <tr>\n",
       "      <th>2</th>\n",
       "      <td>38</td>\n",
       "      <td>Private</td>\n",
       "      <td>215646</td>\n",
       "      <td>HS-grad</td>\n",
       "      <td>9</td>\n",
       "      <td>Divorced</td>\n",
       "      <td>Handlers-cleaners</td>\n",
       "      <td>Not-in-family</td>\n",
       "      <td>White</td>\n",
       "      <td>Male</td>\n",
       "      <td>0</td>\n",
       "      <td>0</td>\n",
       "      <td>40</td>\n",
       "      <td>True</td>\n",
       "    </tr>\n",
       "    <tr>\n",
       "      <th>3</th>\n",
       "      <td>53</td>\n",
       "      <td>Private</td>\n",
       "      <td>234721</td>\n",
       "      <td>11th</td>\n",
       "      <td>7</td>\n",
       "      <td>Married-civ-spouse</td>\n",
       "      <td>Handlers-cleaners</td>\n",
       "      <td>Husband</td>\n",
       "      <td>Black</td>\n",
       "      <td>Male</td>\n",
       "      <td>0</td>\n",
       "      <td>0</td>\n",
       "      <td>40</td>\n",
       "      <td>True</td>\n",
       "    </tr>\n",
       "    <tr>\n",
       "      <th>4</th>\n",
       "      <td>28</td>\n",
       "      <td>Private</td>\n",
       "      <td>338409</td>\n",
       "      <td>Bachelors</td>\n",
       "      <td>13</td>\n",
       "      <td>Married-civ-spouse</td>\n",
       "      <td>Prof-specialty</td>\n",
       "      <td>Wife</td>\n",
       "      <td>Black</td>\n",
       "      <td>Female</td>\n",
       "      <td>0</td>\n",
       "      <td>0</td>\n",
       "      <td>40</td>\n",
       "      <td>False</td>\n",
       "    </tr>\n",
       "  </tbody>\n",
       "</table>\n",
       "</div>"
      ],
      "text/plain": [
       "   age          workclass  fnlwgt   education  education-num  \\\n",
       "0   39          State-gov   77516   Bachelors             13   \n",
       "1   50   Self-emp-not-inc   83311   Bachelors             13   \n",
       "2   38            Private  215646     HS-grad              9   \n",
       "3   53            Private  234721        11th              7   \n",
       "4   28            Private  338409   Bachelors             13   \n",
       "\n",
       "        marital-status          occupation    relationship    race      sex  \\\n",
       "0        Never-married        Adm-clerical   Not-in-family   White     Male   \n",
       "1   Married-civ-spouse     Exec-managerial         Husband   White     Male   \n",
       "2             Divorced   Handlers-cleaners   Not-in-family   White     Male   \n",
       "3   Married-civ-spouse   Handlers-cleaners         Husband   Black     Male   \n",
       "4   Married-civ-spouse      Prof-specialty            Wife   Black   Female   \n",
       "\n",
       "   capital-gain  capital-loss  hours-per-week  country-U.S.  \n",
       "0          2174             0              40          True  \n",
       "1             0             0              13          True  \n",
       "2             0             0              40          True  \n",
       "3             0             0              40          True  \n",
       "4             0             0              40         False  "
      ]
     },
     "execution_count": 23,
     "metadata": {},
     "output_type": "execute_result"
    }
   ],
   "source": [
    "X.head()"
   ]
  },
  {
   "cell_type": "code",
   "execution_count": 24,
   "id": "ad71fae8",
   "metadata": {},
   "outputs": [
    {
     "data": {
      "text/html": [
       "<div>\n",
       "<style scoped>\n",
       "    .dataframe tbody tr th:only-of-type {\n",
       "        vertical-align: middle;\n",
       "    }\n",
       "\n",
       "    .dataframe tbody tr th {\n",
       "        vertical-align: top;\n",
       "    }\n",
       "\n",
       "    .dataframe thead th {\n",
       "        text-align: right;\n",
       "    }\n",
       "</style>\n",
       "<table border=\"1\" class=\"dataframe\">\n",
       "  <thead>\n",
       "    <tr style=\"text-align: right;\">\n",
       "      <th></th>\n",
       "      <th>age</th>\n",
       "      <th>fnlwgt</th>\n",
       "      <th>education-num</th>\n",
       "      <th>capital-gain</th>\n",
       "      <th>capital-loss</th>\n",
       "      <th>hours-per-week</th>\n",
       "      <th>country-U.S.</th>\n",
       "      <th>workclass_ ?</th>\n",
       "      <th>workclass_ Federal-gov</th>\n",
       "      <th>workclass_ Local-gov</th>\n",
       "      <th>...</th>\n",
       "      <th>relationship_ Own-child</th>\n",
       "      <th>relationship_ Unmarried</th>\n",
       "      <th>relationship_ Wife</th>\n",
       "      <th>race_ Amer-Indian-Eskimo</th>\n",
       "      <th>race_ Asian-Pac-Islander</th>\n",
       "      <th>race_ Black</th>\n",
       "      <th>race_ Other</th>\n",
       "      <th>race_ White</th>\n",
       "      <th>sex_ Female</th>\n",
       "      <th>sex_ Male</th>\n",
       "    </tr>\n",
       "  </thead>\n",
       "  <tbody>\n",
       "    <tr>\n",
       "      <th>0</th>\n",
       "      <td>39</td>\n",
       "      <td>77516</td>\n",
       "      <td>13</td>\n",
       "      <td>2174</td>\n",
       "      <td>0</td>\n",
       "      <td>40</td>\n",
       "      <td>True</td>\n",
       "      <td>0</td>\n",
       "      <td>0</td>\n",
       "      <td>0</td>\n",
       "      <td>...</td>\n",
       "      <td>0</td>\n",
       "      <td>0</td>\n",
       "      <td>0</td>\n",
       "      <td>0</td>\n",
       "      <td>0</td>\n",
       "      <td>0</td>\n",
       "      <td>0</td>\n",
       "      <td>1</td>\n",
       "      <td>0</td>\n",
       "      <td>1</td>\n",
       "    </tr>\n",
       "    <tr>\n",
       "      <th>1</th>\n",
       "      <td>50</td>\n",
       "      <td>83311</td>\n",
       "      <td>13</td>\n",
       "      <td>0</td>\n",
       "      <td>0</td>\n",
       "      <td>13</td>\n",
       "      <td>True</td>\n",
       "      <td>0</td>\n",
       "      <td>0</td>\n",
       "      <td>0</td>\n",
       "      <td>...</td>\n",
       "      <td>0</td>\n",
       "      <td>0</td>\n",
       "      <td>0</td>\n",
       "      <td>0</td>\n",
       "      <td>0</td>\n",
       "      <td>0</td>\n",
       "      <td>0</td>\n",
       "      <td>1</td>\n",
       "      <td>0</td>\n",
       "      <td>1</td>\n",
       "    </tr>\n",
       "    <tr>\n",
       "      <th>2</th>\n",
       "      <td>38</td>\n",
       "      <td>215646</td>\n",
       "      <td>9</td>\n",
       "      <td>0</td>\n",
       "      <td>0</td>\n",
       "      <td>40</td>\n",
       "      <td>True</td>\n",
       "      <td>0</td>\n",
       "      <td>0</td>\n",
       "      <td>0</td>\n",
       "      <td>...</td>\n",
       "      <td>0</td>\n",
       "      <td>0</td>\n",
       "      <td>0</td>\n",
       "      <td>0</td>\n",
       "      <td>0</td>\n",
       "      <td>0</td>\n",
       "      <td>0</td>\n",
       "      <td>1</td>\n",
       "      <td>0</td>\n",
       "      <td>1</td>\n",
       "    </tr>\n",
       "    <tr>\n",
       "      <th>3</th>\n",
       "      <td>53</td>\n",
       "      <td>234721</td>\n",
       "      <td>7</td>\n",
       "      <td>0</td>\n",
       "      <td>0</td>\n",
       "      <td>40</td>\n",
       "      <td>True</td>\n",
       "      <td>0</td>\n",
       "      <td>0</td>\n",
       "      <td>0</td>\n",
       "      <td>...</td>\n",
       "      <td>0</td>\n",
       "      <td>0</td>\n",
       "      <td>0</td>\n",
       "      <td>0</td>\n",
       "      <td>0</td>\n",
       "      <td>1</td>\n",
       "      <td>0</td>\n",
       "      <td>0</td>\n",
       "      <td>0</td>\n",
       "      <td>1</td>\n",
       "    </tr>\n",
       "    <tr>\n",
       "      <th>4</th>\n",
       "      <td>28</td>\n",
       "      <td>338409</td>\n",
       "      <td>13</td>\n",
       "      <td>0</td>\n",
       "      <td>0</td>\n",
       "      <td>40</td>\n",
       "      <td>False</td>\n",
       "      <td>0</td>\n",
       "      <td>0</td>\n",
       "      <td>0</td>\n",
       "      <td>...</td>\n",
       "      <td>0</td>\n",
       "      <td>0</td>\n",
       "      <td>1</td>\n",
       "      <td>0</td>\n",
       "      <td>0</td>\n",
       "      <td>1</td>\n",
       "      <td>0</td>\n",
       "      <td>0</td>\n",
       "      <td>1</td>\n",
       "      <td>0</td>\n",
       "    </tr>\n",
       "  </tbody>\n",
       "</table>\n",
       "<p>5 rows × 67 columns</p>\n",
       "</div>"
      ],
      "text/plain": [
       "   age  fnlwgt  education-num  capital-gain  capital-loss  hours-per-week  \\\n",
       "0   39   77516             13          2174             0              40   \n",
       "1   50   83311             13             0             0              13   \n",
       "2   38  215646              9             0             0              40   \n",
       "3   53  234721              7             0             0              40   \n",
       "4   28  338409             13             0             0              40   \n",
       "\n",
       "   country-U.S.  workclass_ ?  workclass_ Federal-gov  workclass_ Local-gov  \\\n",
       "0          True             0                       0                     0   \n",
       "1          True             0                       0                     0   \n",
       "2          True             0                       0                     0   \n",
       "3          True             0                       0                     0   \n",
       "4         False             0                       0                     0   \n",
       "\n",
       "   ...  relationship_ Own-child  relationship_ Unmarried  relationship_ Wife  \\\n",
       "0  ...                        0                        0                   0   \n",
       "1  ...                        0                        0                   0   \n",
       "2  ...                        0                        0                   0   \n",
       "3  ...                        0                        0                   0   \n",
       "4  ...                        0                        0                   1   \n",
       "\n",
       "   race_ Amer-Indian-Eskimo  race_ Asian-Pac-Islander  race_ Black  \\\n",
       "0                         0                         0            0   \n",
       "1                         0                         0            0   \n",
       "2                         0                         0            0   \n",
       "3                         0                         0            1   \n",
       "4                         0                         0            1   \n",
       "\n",
       "   race_ Other  race_ White  sex_ Female  sex_ Male  \n",
       "0            0            1            0          1  \n",
       "1            0            1            0          1  \n",
       "2            0            1            0          1  \n",
       "3            0            0            0          1  \n",
       "4            0            0            1          0  \n",
       "\n",
       "[5 rows x 67 columns]"
      ]
     },
     "execution_count": 24,
     "metadata": {},
     "output_type": "execute_result"
    }
   ],
   "source": [
    "def make_dummies(df, todummy_list):\n",
    "    for s in todummy_list:\n",
    "        new_dummies = pd.get_dummies(df[s], prefix=s)\n",
    "        df.drop(s, axis=1, inplace=True)\n",
    "        df = pd.concat([df, new_dummies], axis=1)\n",
    "    return df\n",
    "\n",
    "X = make_dummies(X, todummy_list)\n",
    "X.head()"
   ]
  },
  {
   "cell_type": "code",
   "execution_count": 25,
   "id": "6459ac41",
   "metadata": {
    "scrolled": true
   },
   "outputs": [
    {
     "name": "stdout",
     "output_type": "stream",
     "text": [
      "<class 'pandas.core.frame.DataFrame'>\n",
      "RangeIndex: 32561 entries, 0 to 32560\n",
      "Data columns (total 67 columns):\n",
      " #   Column                                 Non-Null Count  Dtype\n",
      "---  ------                                 --------------  -----\n",
      " 0   age                                    32561 non-null  int64\n",
      " 1   fnlwgt                                 32561 non-null  int64\n",
      " 2   education-num                          32561 non-null  int64\n",
      " 3   capital-gain                           32561 non-null  int64\n",
      " 4   capital-loss                           32561 non-null  int64\n",
      " 5   hours-per-week                         32561 non-null  int64\n",
      " 6   country-U.S.                           32561 non-null  bool \n",
      " 7   workclass_ ?                           32561 non-null  uint8\n",
      " 8   workclass_ Federal-gov                 32561 non-null  uint8\n",
      " 9   workclass_ Local-gov                   32561 non-null  uint8\n",
      " 10  workclass_ Never-worked                32561 non-null  uint8\n",
      " 11  workclass_ Private                     32561 non-null  uint8\n",
      " 12  workclass_ Self-emp-inc                32561 non-null  uint8\n",
      " 13  workclass_ Self-emp-not-inc            32561 non-null  uint8\n",
      " 14  workclass_ State-gov                   32561 non-null  uint8\n",
      " 15  workclass_ Without-pay                 32561 non-null  uint8\n",
      " 16  education_ 10th                        32561 non-null  uint8\n",
      " 17  education_ 11th                        32561 non-null  uint8\n",
      " 18  education_ 12th                        32561 non-null  uint8\n",
      " 19  education_ 1st-4th                     32561 non-null  uint8\n",
      " 20  education_ 5th-6th                     32561 non-null  uint8\n",
      " 21  education_ 7th-8th                     32561 non-null  uint8\n",
      " 22  education_ 9th                         32561 non-null  uint8\n",
      " 23  education_ Assoc-acdm                  32561 non-null  uint8\n",
      " 24  education_ Assoc-voc                   32561 non-null  uint8\n",
      " 25  education_ Bachelors                   32561 non-null  uint8\n",
      " 26  education_ Doctorate                   32561 non-null  uint8\n",
      " 27  education_ HS-grad                     32561 non-null  uint8\n",
      " 28  education_ Masters                     32561 non-null  uint8\n",
      " 29  education_ Preschool                   32561 non-null  uint8\n",
      " 30  education_ Prof-school                 32561 non-null  uint8\n",
      " 31  education_ Some-college                32561 non-null  uint8\n",
      " 32  marital-status_ Divorced               32561 non-null  uint8\n",
      " 33  marital-status_ Married-AF-spouse      32561 non-null  uint8\n",
      " 34  marital-status_ Married-civ-spouse     32561 non-null  uint8\n",
      " 35  marital-status_ Married-spouse-absent  32561 non-null  uint8\n",
      " 36  marital-status_ Never-married          32561 non-null  uint8\n",
      " 37  marital-status_ Separated              32561 non-null  uint8\n",
      " 38  marital-status_ Widowed                32561 non-null  uint8\n",
      " 39  occupation_ ?                          32561 non-null  uint8\n",
      " 40  occupation_ Adm-clerical               32561 non-null  uint8\n",
      " 41  occupation_ Armed-Forces               32561 non-null  uint8\n",
      " 42  occupation_ Craft-repair               32561 non-null  uint8\n",
      " 43  occupation_ Exec-managerial            32561 non-null  uint8\n",
      " 44  occupation_ Farming-fishing            32561 non-null  uint8\n",
      " 45  occupation_ Handlers-cleaners          32561 non-null  uint8\n",
      " 46  occupation_ Machine-op-inspct          32561 non-null  uint8\n",
      " 47  occupation_ Other-service              32561 non-null  uint8\n",
      " 48  occupation_ Priv-house-serv            32561 non-null  uint8\n",
      " 49  occupation_ Prof-specialty             32561 non-null  uint8\n",
      " 50  occupation_ Protective-serv            32561 non-null  uint8\n",
      " 51  occupation_ Sales                      32561 non-null  uint8\n",
      " 52  occupation_ Tech-support               32561 non-null  uint8\n",
      " 53  occupation_ Transport-moving           32561 non-null  uint8\n",
      " 54  relationship_ Husband                  32561 non-null  uint8\n",
      " 55  relationship_ Not-in-family            32561 non-null  uint8\n",
      " 56  relationship_ Other-relative           32561 non-null  uint8\n",
      " 57  relationship_ Own-child                32561 non-null  uint8\n",
      " 58  relationship_ Unmarried                32561 non-null  uint8\n",
      " 59  relationship_ Wife                     32561 non-null  uint8\n",
      " 60  race_ Amer-Indian-Eskimo               32561 non-null  uint8\n",
      " 61  race_ Asian-Pac-Islander               32561 non-null  uint8\n",
      " 62  race_ Black                            32561 non-null  uint8\n",
      " 63  race_ Other                            32561 non-null  uint8\n",
      " 64  race_ White                            32561 non-null  uint8\n",
      " 65  sex_ Female                            32561 non-null  uint8\n",
      " 66  sex_ Male                              32561 non-null  uint8\n",
      "dtypes: bool(1), int64(6), uint8(60)\n",
      "memory usage: 3.4 MB\n"
     ]
    }
   ],
   "source": [
    "X.info()"
   ]
  },
  {
   "cell_type": "markdown",
   "id": "d2125cce",
   "metadata": {},
   "source": [
    "We have successfully converted categorical to dummy"
   ]
  },
  {
   "cell_type": "code",
   "execution_count": 26,
   "id": "f7d02a73",
   "metadata": {},
   "outputs": [
    {
     "data": {
      "text/plain": [
       "True     29170\n",
       "False     3391\n",
       "Name: country-U.S., dtype: int64"
      ]
     },
     "execution_count": 26,
     "metadata": {},
     "output_type": "execute_result"
    }
   ],
   "source": [
    "X['country-U.S.'].value_counts()"
   ]
  },
  {
   "cell_type": "code",
   "execution_count": 27,
   "id": "0aaed264",
   "metadata": {},
   "outputs": [
    {
     "data": {
      "text/plain": [
       "1    29170\n",
       "0     3391\n",
       "Name: country-U.S., dtype: int64"
      ]
     },
     "execution_count": 27,
     "metadata": {},
     "output_type": "execute_result"
    }
   ],
   "source": [
    "# make 'country-U.S.' into uint8\n",
    "X['country-U.S.'] = X['country-U.S.'].astype('uint8')\n",
    "X['country-U.S.'].value_counts()"
   ]
  },
  {
   "cell_type": "code",
   "execution_count": 28,
   "id": "bb85bee5",
   "metadata": {
    "scrolled": true
   },
   "outputs": [
    {
     "name": "stdout",
     "output_type": "stream",
     "text": [
      "<class 'pandas.core.frame.DataFrame'>\n",
      "RangeIndex: 32561 entries, 0 to 32560\n",
      "Data columns (total 67 columns):\n",
      " #   Column                                 Non-Null Count  Dtype\n",
      "---  ------                                 --------------  -----\n",
      " 0   age                                    32561 non-null  int64\n",
      " 1   fnlwgt                                 32561 non-null  int64\n",
      " 2   education-num                          32561 non-null  int64\n",
      " 3   capital-gain                           32561 non-null  int64\n",
      " 4   capital-loss                           32561 non-null  int64\n",
      " 5   hours-per-week                         32561 non-null  int64\n",
      " 6   country-U.S.                           32561 non-null  uint8\n",
      " 7   workclass_ ?                           32561 non-null  uint8\n",
      " 8   workclass_ Federal-gov                 32561 non-null  uint8\n",
      " 9   workclass_ Local-gov                   32561 non-null  uint8\n",
      " 10  workclass_ Never-worked                32561 non-null  uint8\n",
      " 11  workclass_ Private                     32561 non-null  uint8\n",
      " 12  workclass_ Self-emp-inc                32561 non-null  uint8\n",
      " 13  workclass_ Self-emp-not-inc            32561 non-null  uint8\n",
      " 14  workclass_ State-gov                   32561 non-null  uint8\n",
      " 15  workclass_ Without-pay                 32561 non-null  uint8\n",
      " 16  education_ 10th                        32561 non-null  uint8\n",
      " 17  education_ 11th                        32561 non-null  uint8\n",
      " 18  education_ 12th                        32561 non-null  uint8\n",
      " 19  education_ 1st-4th                     32561 non-null  uint8\n",
      " 20  education_ 5th-6th                     32561 non-null  uint8\n",
      " 21  education_ 7th-8th                     32561 non-null  uint8\n",
      " 22  education_ 9th                         32561 non-null  uint8\n",
      " 23  education_ Assoc-acdm                  32561 non-null  uint8\n",
      " 24  education_ Assoc-voc                   32561 non-null  uint8\n",
      " 25  education_ Bachelors                   32561 non-null  uint8\n",
      " 26  education_ Doctorate                   32561 non-null  uint8\n",
      " 27  education_ HS-grad                     32561 non-null  uint8\n",
      " 28  education_ Masters                     32561 non-null  uint8\n",
      " 29  education_ Preschool                   32561 non-null  uint8\n",
      " 30  education_ Prof-school                 32561 non-null  uint8\n",
      " 31  education_ Some-college                32561 non-null  uint8\n",
      " 32  marital-status_ Divorced               32561 non-null  uint8\n",
      " 33  marital-status_ Married-AF-spouse      32561 non-null  uint8\n",
      " 34  marital-status_ Married-civ-spouse     32561 non-null  uint8\n",
      " 35  marital-status_ Married-spouse-absent  32561 non-null  uint8\n",
      " 36  marital-status_ Never-married          32561 non-null  uint8\n",
      " 37  marital-status_ Separated              32561 non-null  uint8\n",
      " 38  marital-status_ Widowed                32561 non-null  uint8\n",
      " 39  occupation_ ?                          32561 non-null  uint8\n",
      " 40  occupation_ Adm-clerical               32561 non-null  uint8\n",
      " 41  occupation_ Armed-Forces               32561 non-null  uint8\n",
      " 42  occupation_ Craft-repair               32561 non-null  uint8\n",
      " 43  occupation_ Exec-managerial            32561 non-null  uint8\n",
      " 44  occupation_ Farming-fishing            32561 non-null  uint8\n",
      " 45  occupation_ Handlers-cleaners          32561 non-null  uint8\n",
      " 46  occupation_ Machine-op-inspct          32561 non-null  uint8\n",
      " 47  occupation_ Other-service              32561 non-null  uint8\n",
      " 48  occupation_ Priv-house-serv            32561 non-null  uint8\n",
      " 49  occupation_ Prof-specialty             32561 non-null  uint8\n",
      " 50  occupation_ Protective-serv            32561 non-null  uint8\n",
      " 51  occupation_ Sales                      32561 non-null  uint8\n",
      " 52  occupation_ Tech-support               32561 non-null  uint8\n",
      " 53  occupation_ Transport-moving           32561 non-null  uint8\n",
      " 54  relationship_ Husband                  32561 non-null  uint8\n",
      " 55  relationship_ Not-in-family            32561 non-null  uint8\n",
      " 56  relationship_ Other-relative           32561 non-null  uint8\n",
      " 57  relationship_ Own-child                32561 non-null  uint8\n",
      " 58  relationship_ Unmarried                32561 non-null  uint8\n",
      " 59  relationship_ Wife                     32561 non-null  uint8\n",
      " 60  race_ Amer-Indian-Eskimo               32561 non-null  uint8\n",
      " 61  race_ Asian-Pac-Islander               32561 non-null  uint8\n",
      " 62  race_ Black                            32561 non-null  uint8\n",
      " 63  race_ Other                            32561 non-null  uint8\n",
      " 64  race_ White                            32561 non-null  uint8\n",
      " 65  sex_ Female                            32561 non-null  uint8\n",
      " 66  sex_ Male                              32561 non-null  uint8\n",
      "dtypes: int64(6), uint8(61)\n",
      "memory usage: 3.4 MB\n"
     ]
    }
   ],
   "source": [
    "X.info()"
   ]
  },
  {
   "cell_type": "markdown",
   "id": "057b04e0",
   "metadata": {},
   "source": [
    "## Handle Missing Data"
   ]
  },
  {
   "cell_type": "markdown",
   "id": "dc4ed946",
   "metadata": {},
   "source": [
    "imputation is usually better than just dropping"
   ]
  },
  {
   "cell_type": "code",
   "execution_count": 29,
   "id": "bd32ff94",
   "metadata": {},
   "outputs": [
    {
     "data": {
      "text/plain": [
       "age                              0\n",
       "occupation_ Protective-serv      0\n",
       "marital-status_ Never-married    0\n",
       "marital-status_ Separated        0\n",
       "marital-status_ Widowed          0\n",
       "                                ..\n",
       "education_ Masters               0\n",
       "education_ Preschool             0\n",
       "education_ Prof-school           0\n",
       "education_ Some-college          0\n",
       "sex_ Male                        0\n",
       "Length: 67, dtype: int64"
      ]
     },
     "execution_count": 29,
     "metadata": {},
     "output_type": "execute_result"
    }
   ],
   "source": [
    "X.isnull().sum().sort_values(ascending=False).head(67)"
   ]
  },
  {
   "cell_type": "markdown",
   "id": "a51ecedc",
   "metadata": {},
   "source": [
    "No missing data in this version of the dataset:\n",
    "https://archive.ics.uci.edu/ml/datasets/Adult\n"
   ]
  },
  {
   "cell_type": "markdown",
   "id": "829e7f8e",
   "metadata": {},
   "source": [
    "If missing data was present, we could impute using below method:"
   ]
  },
  {
   "cell_type": "code",
   "execution_count": 30,
   "id": "588abbb3",
   "metadata": {},
   "outputs": [
    {
     "ename": "ImportError",
     "evalue": "cannot import name 'Imputer' from 'sklearn.preprocessing' (/opt/anaconda3/lib/python3.9/site-packages/sklearn/preprocessing/__init__.py)",
     "output_type": "error",
     "traceback": [
      "\u001b[0;31m---------------------------------------------------------------------------\u001b[0m",
      "\u001b[0;31mImportError\u001b[0m                               Traceback (most recent call last)",
      "Input \u001b[0;32mIn [30]\u001b[0m, in \u001b[0;36m<cell line: 2>\u001b[0;34m()\u001b[0m\n\u001b[1;32m      1\u001b[0m \u001b[38;5;66;03m# impute usint Imputer from sklearn.preprocessing\u001b[39;00m\n\u001b[0;32m----> 2\u001b[0m \u001b[38;5;28;01mfrom\u001b[39;00m \u001b[38;5;21;01msklearn\u001b[39;00m\u001b[38;5;21;01m.\u001b[39;00m\u001b[38;5;21;01mpreprocessing\u001b[39;00m \u001b[38;5;28;01mimport\u001b[39;00m Imputer\n\u001b[1;32m      4\u001b[0m imp \u001b[38;5;241m=\u001b[39m Imputer(missin_values\u001b[38;5;241m=\u001b[39m\u001b[38;5;124m'\u001b[39m\u001b[38;5;124mNaN\u001b[39m\u001b[38;5;124m'\u001b[39m, strategy\u001b[38;5;241m=\u001b[39m\u001b[38;5;124m'\u001b[39m\u001b[38;5;124mmedian\u001b[39m\u001b[38;5;124m'\u001b[39m, axis\u001b[38;5;241m=\u001b[39m\u001b[38;5;241m0\u001b[39m)\n\u001b[1;32m      5\u001b[0m imp\u001b[38;5;241m.\u001b[39mfit(X)\n",
      "\u001b[0;31mImportError\u001b[0m: cannot import name 'Imputer' from 'sklearn.preprocessing' (/opt/anaconda3/lib/python3.9/site-packages/sklearn/preprocessing/__init__.py)"
     ]
    }
   ],
   "source": [
    "# impute usint Imputer from sklearn.preprocessing\n",
    "from sklearn.preprocessing import Imputer\n",
    "\n",
    "imp = Imputer(missin_values='NaN', strategy='median', axis=0)\n",
    "imp.fit(X)\n",
    "X = pd.DataFrame(data=imp.transfrom(X), columns=X.columns)\n",
    "X"
   ]
  },
  {
   "cell_type": "code",
   "execution_count": null,
   "id": "f7407864",
   "metadata": {},
   "outputs": [],
   "source": []
  }
 ],
 "metadata": {
  "kernelspec": {
   "display_name": "Python 3 (ipykernel)",
   "language": "python",
   "name": "python3"
  },
  "language_info": {
   "codemirror_mode": {
    "name": "ipython",
    "version": 3
   },
   "file_extension": ".py",
   "mimetype": "text/x-python",
   "name": "python",
   "nbconvert_exporter": "python",
   "pygments_lexer": "ipython3",
   "version": "3.9.12"
  }
 },
 "nbformat": 4,
 "nbformat_minor": 5
}
